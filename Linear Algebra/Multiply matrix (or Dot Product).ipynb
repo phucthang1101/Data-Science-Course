{
 "cells": [
  {
   "cell_type": "code",
   "execution_count": 1,
   "id": "6dc67cb2",
   "metadata": {},
   "outputs": [],
   "source": [
    "import numpy as np"
   ]
  },
  {
   "cell_type": "markdown",
   "id": "291dcb91",
   "metadata": {},
   "source": [
    "# Dot Product"
   ]
  },
  {
   "cell_type": "markdown",
   "id": "78a5d24d",
   "metadata": {},
   "source": [
    "## Multiply 2 vectors"
   ]
  },
  {
   "cell_type": "code",
   "execution_count": 12,
   "id": "4de57abb",
   "metadata": {},
   "outputs": [],
   "source": [
    "x = np.array([2,8,-4])\n",
    "y = np.array([1,-7,3])"
   ]
  },
  {
   "cell_type": "markdown",
   "id": "44c76b65",
   "metadata": {},
   "source": [
    "multiply 2 vectors = 2x1 + 8x(-7) + (-4)x3"
   ]
  },
  {
   "cell_type": "code",
   "execution_count": 6,
   "id": "be305a88",
   "metadata": {},
   "outputs": [
    {
     "data": {
      "text/plain": [
       "-66"
      ]
     },
     "execution_count": 6,
     "metadata": {},
     "output_type": "execute_result"
    }
   ],
   "source": [
    "np.dot(x,y)"
   ]
  },
  {
   "cell_type": "code",
   "execution_count": 8,
   "id": "f6300ec4",
   "metadata": {},
   "outputs": [],
   "source": [
    "u = np.array([0,2,5,8])\n",
    "v = np.array([20,3,4,-1])\n"
   ]
  },
  {
   "cell_type": "markdown",
   "id": "652b9d42",
   "metadata": {},
   "source": [
    "multiply 2 vectors = 0x20 + 2x3 + 5x4 + 8x(-1)"
   ]
  },
  {
   "cell_type": "code",
   "execution_count": 9,
   "id": "0fdf3202",
   "metadata": {},
   "outputs": [
    {
     "data": {
      "text/plain": [
       "18"
      ]
     },
     "execution_count": 9,
     "metadata": {},
     "output_type": "execute_result"
    }
   ],
   "source": [
    "np.dot(u,v)"
   ]
  },
  {
   "cell_type": "markdown",
   "id": "5f7df248",
   "metadata": {},
   "source": [
    "# Scalar * Vector"
   ]
  },
  {
   "cell_type": "code",
   "execution_count": 10,
   "id": "92308401",
   "metadata": {},
   "outputs": [
    {
     "data": {
      "text/plain": [
       "array([ 2,  8, -4])"
      ]
     },
     "execution_count": 10,
     "metadata": {},
     "output_type": "execute_result"
    }
   ],
   "source": [
    "x"
   ]
  },
  {
   "cell_type": "code",
   "execution_count": 11,
   "id": "40024c60",
   "metadata": {},
   "outputs": [
    {
     "data": {
      "text/plain": [
       "array([ 10,  40, -20])"
      ]
     },
     "execution_count": 11,
     "metadata": {},
     "output_type": "execute_result"
    }
   ],
   "source": [
    "x*5"
   ]
  },
  {
   "cell_type": "markdown",
   "id": "5f120653",
   "metadata": {},
   "source": [
    "# Matrix * Matrix"
   ]
  },
  {
   "cell_type": "markdown",
   "id": "a292c32f",
   "metadata": {},
   "source": [
    "<b>Condition:</b> multiply an <b>m x n</b> with an <b>n x k</b> matrix\n",
    "\n",
    "For example: we can multiply:\n",
    "\n",
    "2x3 x 3x1 (3x2, 3x3, 3x...) matrix\n",
    "\n",
    "5x7 x 7x1 (7x2, 7x3, 7x...) matrix\n",
    "\n",
    "<b>Result:</b> When multiply an <b>m x n</b> with an <b>n x k</b> matrix, the output is an <b>m x k </b> matrix\n",
    "\n",
    "Ex: \n",
    "\n",
    "[2x3] x [3x6] = [2x6]\n",
    "\n",
    "[100x300] x [300x3] = [100x3]\n",
    "\n",
    "Method: \n",
    "\n",
    "[0,0] = sum(row(0) x col(0)) \n",
    "\n",
    "[0,1] = sum(row(0) x col(1))\n",
    "\n",
    "..."
   ]
  },
  {
   "cell_type": "code",
   "execution_count": 14,
   "id": "dcccedcf",
   "metadata": {},
   "outputs": [
    {
     "data": {
      "text/plain": [
       "array([[124,  -5],\n",
       "       [ 36,   3]])"
      ]
     },
     "execution_count": 14,
     "metadata": {},
     "output_type": "execute_result"
    }
   ],
   "source": [
    "m1 = np.array([[5,12,6],[-3,0,14]])\n",
    "m2 = np.array([[2,-1],[8,0],[3,0]])\n",
    "np.dot(m1,m2)"
   ]
  },
  {
   "cell_type": "markdown",
   "id": "41de8067",
   "metadata": {},
   "source": [
    "## Example 2:"
   ]
  },
  {
   "cell_type": "code",
   "execution_count": 15,
   "id": "346eef38",
   "metadata": {},
   "outputs": [
    {
     "data": {
      "text/plain": [
       "array([[-71, -48],\n",
       "       [  2, -25],\n",
       "       [132,  14],\n",
       "       [ 23, -51]])"
      ]
     },
     "execution_count": 15,
     "metadata": {},
     "output_type": "execute_result"
    }
   ],
   "source": [
    "C = np.array([[-12,5,-5,1,6],[6,-2,0,0,3],[10,2,0,8,0],[9,-4,8,3,6]])\n",
    "D = np.array([[6,-1],[8,-4],[2,-2],[7,4],[-6,-9]])\n",
    "np.dot(C,D)"
   ]
  },
  {
   "cell_type": "code",
   "execution_count": 17,
   "id": "c39ecc90",
   "metadata": {},
   "outputs": [
    {
     "data": {
      "text/plain": [
       "-71"
      ]
     },
     "execution_count": 17,
     "metadata": {},
     "output_type": "execute_result"
    }
   ],
   "source": []
  },
  {
   "cell_type": "code",
   "execution_count": null,
   "id": "3f52e564",
   "metadata": {},
   "outputs": [],
   "source": []
  }
 ],
 "metadata": {
  "kernelspec": {
   "display_name": "Python 3",
   "language": "python",
   "name": "python3"
  },
  "language_info": {
   "codemirror_mode": {
    "name": "ipython",
    "version": 3
   },
   "file_extension": ".py",
   "mimetype": "text/x-python",
   "name": "python",
   "nbconvert_exporter": "python",
   "pygments_lexer": "ipython3",
   "version": "3.8.8"
  }
 },
 "nbformat": 4,
 "nbformat_minor": 5
}
