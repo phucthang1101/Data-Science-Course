{
 "cells": [
  {
   "cell_type": "code",
   "execution_count": 1,
   "id": "e9beebf9",
   "metadata": {},
   "outputs": [],
   "source": [
    "import numpy as np"
   ]
  },
  {
   "cell_type": "markdown",
   "id": "fd5c54f8",
   "metadata": {},
   "source": [
    "# Dot Product"
   ]
  },
  {
   "cell_type": "markdown",
   "id": "e36f24fe",
   "metadata": {},
   "source": [
    "## Multiply 2 vectors"
   ]
  },
  {
   "cell_type": "code",
   "execution_count": 12,
   "id": "17c7d7a7",
   "metadata": {},
   "outputs": [],
   "source": [
    "x = np.array([2,8,-4])\n",
    "y = np.array([1,-7,3])"
   ]
  },
  {
   "cell_type": "markdown",
   "id": "6dc86f91",
   "metadata": {},
   "source": [
    "multiply 2 vectors = 2x1 + 8x(-7) + (-4)x3"
   ]
  },
  {
   "cell_type": "code",
   "execution_count": 6,
   "id": "166224a9",
   "metadata": {},
   "outputs": [
    {
     "data": {
      "text/plain": [
       "-66"
      ]
     },
     "execution_count": 6,
     "metadata": {},
     "output_type": "execute_result"
    }
   ],
   "source": [
    "np.dot(x,y)"
   ]
  },
  {
   "cell_type": "code",
   "execution_count": 8,
   "id": "97ee2d9f",
   "metadata": {},
   "outputs": [],
   "source": [
    "u = np.array([0,2,5,8])\n",
    "v = np.array([20,3,4,-1])\n"
   ]
  },
  {
   "cell_type": "markdown",
   "id": "3a8f6a5a",
   "metadata": {},
   "source": [
    "multiply 2 vectors = 0x20 + 2x3 + 5x4 + 8x(-1)"
   ]
  },
  {
   "cell_type": "code",
   "execution_count": 9,
   "id": "0edd4692",
   "metadata": {},
   "outputs": [
    {
     "data": {
      "text/plain": [
       "18"
      ]
     },
     "execution_count": 9,
     "metadata": {},
     "output_type": "execute_result"
    }
   ],
   "source": [
    "np.dot(u,v)"
   ]
  },
  {
   "cell_type": "markdown",
   "id": "564db593",
   "metadata": {},
   "source": [
    "# Scalar * Vector"
   ]
  },
  {
   "cell_type": "code",
   "execution_count": 10,
   "id": "7800a8b0",
   "metadata": {},
   "outputs": [
    {
     "data": {
      "text/plain": [
       "array([ 2,  8, -4])"
      ]
     },
     "execution_count": 10,
     "metadata": {},
     "output_type": "execute_result"
    }
   ],
   "source": [
    "x"
   ]
  },
  {
   "cell_type": "code",
   "execution_count": 11,
   "id": "c965c8bc",
   "metadata": {},
   "outputs": [
    {
     "data": {
      "text/plain": [
       "array([ 10,  40, -20])"
      ]
     },
     "execution_count": 11,
     "metadata": {},
     "output_type": "execute_result"
    }
   ],
   "source": [
    "x*5"
   ]
  },
  {
   "cell_type": "markdown",
   "id": "9ef52a12",
   "metadata": {},
   "source": [
    "# Matrix * Matrix"
   ]
  },
  {
   "cell_type": "markdown",
   "id": "12c41b3c",
   "metadata": {},
   "source": [
    "Condition: multiply an <b>m x n</b> with an <b>n x k</b> matrix\n",
    "\n",
    "For example: we can multiply:\n",
    "\n",
    "2x3 x 3x1 (3x2, 3x3, 3x...) matrix\n",
    "\n",
    "5x7 x 7x1 (7x2, 7x3, 7x...) matrix"
   ]
  },
  {
   "cell_type": "code",
   "execution_count": null,
   "id": "461c6f5f",
   "metadata": {},
   "outputs": [],
   "source": []
  }
 ],
 "metadata": {
  "kernelspec": {
   "display_name": "Python 3",
   "language": "python",
   "name": "python3"
  },
  "language_info": {
   "codemirror_mode": {
    "name": "ipython",
    "version": 3
   },
   "file_extension": ".py",
   "mimetype": "text/x-python",
   "name": "python",
   "nbconvert_exporter": "python",
   "pygments_lexer": "ipython3",
   "version": "3.8.8"
  }
 },
 "nbformat": 4,
 "nbformat_minor": 5
}
