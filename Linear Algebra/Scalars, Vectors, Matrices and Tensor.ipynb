{
 "cells": [
  {
   "cell_type": "code",
   "execution_count": 1,
   "id": "b0d20d8b",
   "metadata": {},
   "outputs": [],
   "source": [
    "import numpy as np\n"
   ]
  },
  {
   "cell_type": "markdown",
   "id": "c04bb24f",
   "metadata": {},
   "source": [
    "## Creating a Matrix"
   ]
  },
  {
   "cell_type": "markdown",
   "id": "35879bdd",
   "metadata": {},
   "source": [
    "Matrix is a np.array and is a collection of vectors"
   ]
  },
  {
   "cell_type": "code",
   "execution_count": 4,
   "id": "02ebaee6",
   "metadata": {},
   "outputs": [
    {
     "data": {
      "text/plain": [
       "array([[ 5, 12, -6],\n",
       "       [-3,  0, 14]])"
      ]
     },
     "execution_count": 4,
     "metadata": {},
     "output_type": "execute_result"
    }
   ],
   "source": [
    "m1 = np.array([[5,12,-6], [-3, 0,14]])\n",
    "m1"
   ]
  },
  {
   "cell_type": "code",
   "execution_count": 5,
   "id": "ad0abd59",
   "metadata": {},
   "outputs": [
    {
     "data": {
      "text/plain": [
       "array([[ 9,  8,  7],\n",
       "       [ 1,  3, -5]])"
      ]
     },
     "execution_count": 5,
     "metadata": {},
     "output_type": "execute_result"
    }
   ],
   "source": [
    "m2 = np.array([[9,8,7], [1,3,-5]])\n",
    "m2"
   ]
  },
  {
   "cell_type": "markdown",
   "id": "6d567af3",
   "metadata": {},
   "source": [
    "## Creating Tensor "
   ]
  },
  {
   "cell_type": "markdown",
   "id": "dbe39cdd",
   "metadata": {},
   "source": [
    "Tensor is a collection of matrices"
   ]
  },
  {
   "cell_type": "code",
   "execution_count": 7,
   "id": "58fd4eb3",
   "metadata": {},
   "outputs": [
    {
     "data": {
      "text/plain": [
       "array([[[ 5, 12, -6],\n",
       "        [-3,  0, 14]],\n",
       "\n",
       "       [[ 9,  8,  7],\n",
       "        [ 1,  3, -5]]])"
      ]
     },
     "execution_count": 7,
     "metadata": {},
     "output_type": "execute_result"
    }
   ],
   "source": [
    "tensor = np.array([m1,m2])\n",
    "tensor\n"
   ]
  },
  {
   "cell_type": "code",
   "execution_count": 9,
   "id": "3bffadad",
   "metadata": {},
   "outputs": [
    {
     "data": {
      "text/plain": [
       "(2, 2, 3)"
      ]
     },
     "execution_count": 9,
     "metadata": {},
     "output_type": "execute_result"
    }
   ],
   "source": [
    "tensor.shape"
   ]
  },
  {
   "cell_type": "markdown",
   "id": "ac7ea3d2",
   "metadata": {},
   "source": [
    "It is a 2x2x3 object => means it contains 2 matrices, and each one is a 2x3 matrix"
   ]
  },
  {
   "cell_type": "code",
   "execution_count": null,
   "id": "62625537",
   "metadata": {},
   "outputs": [],
   "source": []
  }
 ],
 "metadata": {
  "kernelspec": {
   "display_name": "Python 3",
   "language": "python",
   "name": "python3"
  },
  "language_info": {
   "codemirror_mode": {
    "name": "ipython",
    "version": 3
   },
   "file_extension": ".py",
   "mimetype": "text/x-python",
   "name": "python",
   "nbconvert_exporter": "python",
   "pygments_lexer": "ipython3",
   "version": "3.8.8"
  }
 },
 "nbformat": 4,
 "nbformat_minor": 5
}
