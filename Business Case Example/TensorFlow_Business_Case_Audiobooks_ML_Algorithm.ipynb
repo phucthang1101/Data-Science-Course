{
 "cells": [
  {
   "cell_type": "markdown",
   "id": "9fbe96d5",
   "metadata": {},
   "source": [
    "## Create ML Algorithm"
   ]
  },
  {
   "cell_type": "markdown",
   "id": "7cb24d56",
   "metadata": {},
   "source": [
    "## Import relevant libraries"
   ]
  },
  {
   "cell_type": "code",
   "execution_count": 1,
   "id": "5a3c9532",
   "metadata": {},
   "outputs": [],
   "source": [
    "# we must import the libraries once again since we haven't imported them in this file\n",
    "import numpy as np\n",
    "import tensorflow as tf"
   ]
  },
  {
   "cell_type": "markdown",
   "id": "c17ae47c",
   "metadata": {},
   "source": [
    "## Import data from .npz files"
   ]
  },
  {
   "cell_type": "markdown",
   "id": "2aebd74d",
   "metadata": {},
   "source": [
    "We say the NPZs in 2-tuple form [inputs,targets]"
   ]
  },
  {
   "cell_type": "code",
   "execution_count": 2,
   "id": "04e34f86",
   "metadata": {},
   "outputs": [
    {
     "name": "stderr",
     "output_type": "stream",
     "text": [
      "<ipython-input-2-b1973987b5a5>:6: DeprecationWarning: `np.float` is a deprecated alias for the builtin `float`. To silence this warning, use `float` by itself. Doing this will not modify any behavior and is safe. If you specifically wanted the numpy scalar type, use `np.float64` here.\n",
      "Deprecated in NumPy 1.20; for more details and guidance: https://numpy.org/devdocs/release/1.20.0-notes.html#deprecations\n",
      "  train_inputs = npz['inputs'].astype(np.float)\n",
      "<ipython-input-2-b1973987b5a5>:8: DeprecationWarning: `np.int` is a deprecated alias for the builtin `int`. To silence this warning, use `int` by itself. Doing this will not modify any behavior and is safe. When replacing `np.int`, you may wish to use e.g. `np.int64` or `np.int32` to specify the precision. If you wish to review your current use, check the release note link for additional information.\n",
      "Deprecated in NumPy 1.20; for more details and guidance: https://numpy.org/devdocs/release/1.20.0-notes.html#deprecations\n",
      "  train_targets = npz['targets'].astype(np.int)\n",
      "<ipython-input-2-b1973987b5a5>:13: DeprecationWarning: `np.float` is a deprecated alias for the builtin `float`. To silence this warning, use `float` by itself. Doing this will not modify any behavior and is safe. If you specifically wanted the numpy scalar type, use `np.float64` here.\n",
      "Deprecated in NumPy 1.20; for more details and guidance: https://numpy.org/devdocs/release/1.20.0-notes.html#deprecations\n",
      "  validation_inputs, validation_targets = npz['inputs'].astype(np.float), npz['targets'].astype(np.int)\n",
      "<ipython-input-2-b1973987b5a5>:13: DeprecationWarning: `np.int` is a deprecated alias for the builtin `int`. To silence this warning, use `int` by itself. Doing this will not modify any behavior and is safe. When replacing `np.int`, you may wish to use e.g. `np.int64` or `np.int32` to specify the precision. If you wish to review your current use, check the release note link for additional information.\n",
      "Deprecated in NumPy 1.20; for more details and guidance: https://numpy.org/devdocs/release/1.20.0-notes.html#deprecations\n",
      "  validation_inputs, validation_targets = npz['inputs'].astype(np.float), npz['targets'].astype(np.int)\n",
      "<ipython-input-2-b1973987b5a5>:18: DeprecationWarning: `np.float` is a deprecated alias for the builtin `float`. To silence this warning, use `float` by itself. Doing this will not modify any behavior and is safe. If you specifically wanted the numpy scalar type, use `np.float64` here.\n",
      "Deprecated in NumPy 1.20; for more details and guidance: https://numpy.org/devdocs/release/1.20.0-notes.html#deprecations\n",
      "  test_inputs, test_targets = npz['inputs'].astype(np.float), npz['targets'].astype(np.int)\n",
      "<ipython-input-2-b1973987b5a5>:18: DeprecationWarning: `np.int` is a deprecated alias for the builtin `int`. To silence this warning, use `int` by itself. Doing this will not modify any behavior and is safe. When replacing `np.int`, you may wish to use e.g. `np.int64` or `np.int32` to specify the precision. If you wish to review your current use, check the release note link for additional information.\n",
      "Deprecated in NumPy 1.20; for more details and guidance: https://numpy.org/devdocs/release/1.20.0-notes.html#deprecations\n",
      "  test_inputs, test_targets = npz['inputs'].astype(np.float), npz['targets'].astype(np.int)\n"
     ]
    },
    {
     "data": {
      "text/plain": [
       "array([[-0.64419501, -0.67316726,  0.5765429 , ...,  3.45485882,\n",
       "        -0.20183481,  1.79009996],\n",
       "       [ 0.21053387, -0.18888517,  0.04679395, ..., -0.41569922,\n",
       "        -0.20183481,  2.40415065],\n",
       "       [ 0.21053387, -0.18888517, -0.18517686, ..., -0.41569922,\n",
       "        -0.20183481, -0.72458383],\n",
       "       ...,\n",
       "       [ 0.21053387, -0.18888517, -0.39082475, ...,  3.38448504,\n",
       "        -0.20183481, -0.71483699],\n",
       "       [ 1.27894497,  0.41646744,  0.39886313, ...,  2.68074721,\n",
       "        -0.20183481, -0.71483699],\n",
       "       [-0.64419501, -0.67316726, -0.12759546, ..., -0.41569922,\n",
       "        -0.20183481, -0.80255852]])"
      ]
     },
     "execution_count": 2,
     "metadata": {},
     "output_type": "execute_result"
    }
   ],
   "source": [
    "# let's create a temporary variable npz, where we will store each of the three Audiobooks datasets\n",
    "npz = np.load('Audiobooks_data_train.npz')\n",
    "\n",
    "# we extract the inputs using the keyword under which we saved them\n",
    "# to ensure that they are all floats, let's also take care of that\n",
    "train_inputs = npz['inputs'].astype(np.float)\n",
    "# targets must be int because of sparse_categorical_crossentropy (we want to be able to smoothly one-hot encode them)\n",
    "train_targets = npz['targets'].astype(np.int)\n",
    "\n",
    "# we load the validation data in the temporary variable\n",
    "npz = np.load('Audiobooks_data_validation.npz')\n",
    "# we can load the inputs and the targets in the same line\n",
    "validation_inputs, validation_targets = npz['inputs'].astype(np.float), npz['targets'].astype(np.int)\n",
    "\n",
    "# we load the test data in the temporary variable\n",
    "npz = np.load('Audiobooks_data_test.npz')\n",
    "# we create 2 variables that will contain the test inputs and the test targets\n",
    "test_inputs, test_targets = npz['inputs'].astype(np.float), npz['targets'].astype(np.int)\n",
    "train_inputs"
   ]
  },
  {
   "cell_type": "markdown",
   "id": "718f4354",
   "metadata": {},
   "source": [
    "## Model"
   ]
  },
  {
   "cell_type": "markdown",
   "id": "71e7dc74",
   "metadata": {},
   "source": [
    "Outline, optimizers, loss, early stopping and training\n",
    "\n",
    "*the same as the MNIST example"
   ]
  },
  {
   "cell_type": "code",
   "execution_count": 3,
   "id": "5dc53e25",
   "metadata": {
    "scrolled": true
   },
   "outputs": [
    {
     "name": "stdout",
     "output_type": "stream",
     "text": [
      "Epoch 1/100\n",
      "4/4 - 0s - loss: 0.7019 - accuracy: 0.5493 - val_loss: 0.6644 - val_accuracy: 0.6309\n",
      "Epoch 2/100\n",
      "4/4 - 0s - loss: 0.6527 - accuracy: 0.6275 - val_loss: 0.6268 - val_accuracy: 0.7002\n",
      "Epoch 3/100\n",
      "4/4 - 0s - loss: 0.6160 - accuracy: 0.6901 - val_loss: 0.5956 - val_accuracy: 0.7383\n",
      "Epoch 4/100\n",
      "4/4 - 0s - loss: 0.5881 - accuracy: 0.7192 - val_loss: 0.5692 - val_accuracy: 0.7539\n",
      "Epoch 5/100\n",
      "4/4 - 0s - loss: 0.5638 - accuracy: 0.7318 - val_loss: 0.5462 - val_accuracy: 0.7651\n",
      "Epoch 6/100\n",
      "4/4 - 0s - loss: 0.5427 - accuracy: 0.7485 - val_loss: 0.5256 - val_accuracy: 0.7852\n",
      "Epoch 7/100\n",
      "4/4 - 0s - loss: 0.5237 - accuracy: 0.7583 - val_loss: 0.5065 - val_accuracy: 0.7919\n",
      "Epoch 8/100\n",
      "4/4 - 0s - loss: 0.5059 - accuracy: 0.7667 - val_loss: 0.4890 - val_accuracy: 0.7919\n",
      "Epoch 9/100\n",
      "4/4 - 0s - loss: 0.4896 - accuracy: 0.7695 - val_loss: 0.4729 - val_accuracy: 0.7919\n",
      "Epoch 10/100\n",
      "4/4 - 0s - loss: 0.4746 - accuracy: 0.7734 - val_loss: 0.4583 - val_accuracy: 0.7875\n",
      "Epoch 11/100\n",
      "4/4 - 0s - loss: 0.4614 - accuracy: 0.7762 - val_loss: 0.4450 - val_accuracy: 0.7964\n",
      "Epoch 12/100\n",
      "4/4 - 0s - loss: 0.4495 - accuracy: 0.7773 - val_loss: 0.4337 - val_accuracy: 0.7919\n",
      "Epoch 13/100\n",
      "4/4 - 0s - loss: 0.4387 - accuracy: 0.7804 - val_loss: 0.4244 - val_accuracy: 0.8009\n",
      "Epoch 14/100\n",
      "4/4 - 0s - loss: 0.4291 - accuracy: 0.7832 - val_loss: 0.4160 - val_accuracy: 0.8031\n",
      "Epoch 15/100\n",
      "4/4 - 0s - loss: 0.4203 - accuracy: 0.7913 - val_loss: 0.4087 - val_accuracy: 0.8009\n",
      "Epoch 16/100\n",
      "4/4 - 0s - loss: 0.4123 - accuracy: 0.7944 - val_loss: 0.4019 - val_accuracy: 0.8031\n",
      "Epoch 17/100\n",
      "4/4 - 0s - loss: 0.4050 - accuracy: 0.7949 - val_loss: 0.3950 - val_accuracy: 0.8009\n",
      "Epoch 18/100\n",
      "4/4 - 0s - loss: 0.3984 - accuracy: 0.7972 - val_loss: 0.3888 - val_accuracy: 0.8031\n",
      "Epoch 19/100\n",
      "4/4 - 0s - loss: 0.3923 - accuracy: 0.7991 - val_loss: 0.3841 - val_accuracy: 0.8054\n",
      "Epoch 20/100\n",
      "4/4 - 0s - loss: 0.3872 - accuracy: 0.8022 - val_loss: 0.3799 - val_accuracy: 0.8054\n",
      "Epoch 21/100\n",
      "4/4 - 0s - loss: 0.3823 - accuracy: 0.8030 - val_loss: 0.3752 - val_accuracy: 0.8076\n",
      "Epoch 22/100\n",
      "4/4 - 0s - loss: 0.3783 - accuracy: 0.8044 - val_loss: 0.3706 - val_accuracy: 0.8143\n",
      "Epoch 23/100\n",
      "4/4 - 0s - loss: 0.3743 - accuracy: 0.8047 - val_loss: 0.3677 - val_accuracy: 0.8054\n",
      "Epoch 24/100\n",
      "4/4 - 0s - loss: 0.3708 - accuracy: 0.8055 - val_loss: 0.3647 - val_accuracy: 0.8166\n",
      "Epoch 25/100\n",
      "4/4 - 0s - loss: 0.3682 - accuracy: 0.8061 - val_loss: 0.3624 - val_accuracy: 0.8210\n",
      "Epoch 26/100\n",
      "4/4 - 0s - loss: 0.3647 - accuracy: 0.8055 - val_loss: 0.3599 - val_accuracy: 0.8054\n",
      "Epoch 27/100\n",
      "4/4 - 0s - loss: 0.3624 - accuracy: 0.8075 - val_loss: 0.3566 - val_accuracy: 0.8054\n",
      "Epoch 28/100\n",
      "4/4 - 0s - loss: 0.3595 - accuracy: 0.8100 - val_loss: 0.3531 - val_accuracy: 0.8233\n",
      "Epoch 29/100\n",
      "4/4 - 0s - loss: 0.3580 - accuracy: 0.8092 - val_loss: 0.3517 - val_accuracy: 0.8277\n",
      "Epoch 30/100\n",
      "4/4 - 0s - loss: 0.3555 - accuracy: 0.8131 - val_loss: 0.3517 - val_accuracy: 0.8166\n",
      "Epoch 31/100\n",
      "4/4 - 0s - loss: 0.3535 - accuracy: 0.8139 - val_loss: 0.3502 - val_accuracy: 0.8188\n",
      "Epoch 32/100\n",
      "4/4 - 0s - loss: 0.3518 - accuracy: 0.8136 - val_loss: 0.3480 - val_accuracy: 0.8166\n",
      "Epoch 33/100\n",
      "4/4 - 0s - loss: 0.3502 - accuracy: 0.8106 - val_loss: 0.3458 - val_accuracy: 0.8210\n",
      "Epoch 34/100\n",
      "4/4 - 0s - loss: 0.3486 - accuracy: 0.8150 - val_loss: 0.3457 - val_accuracy: 0.8188\n",
      "Epoch 35/100\n",
      "4/4 - 0s - loss: 0.3470 - accuracy: 0.8142 - val_loss: 0.3459 - val_accuracy: 0.8121\n",
      "Epoch 36/100\n",
      "4/4 - 0s - loss: 0.3460 - accuracy: 0.8170 - val_loss: 0.3446 - val_accuracy: 0.8143\n",
      "Epoch 37/100\n",
      "4/4 - 0s - loss: 0.3446 - accuracy: 0.8181 - val_loss: 0.3427 - val_accuracy: 0.8188\n",
      "Epoch 38/100\n",
      "4/4 - 0s - loss: 0.3434 - accuracy: 0.8164 - val_loss: 0.3404 - val_accuracy: 0.8233\n",
      "Epoch 39/100\n",
      "4/4 - 0s - loss: 0.3422 - accuracy: 0.8164 - val_loss: 0.3390 - val_accuracy: 0.8166\n",
      "Epoch 40/100\n",
      "4/4 - 0s - loss: 0.3422 - accuracy: 0.8178 - val_loss: 0.3406 - val_accuracy: 0.8143\n",
      "Epoch 41/100\n",
      "4/4 - 0s - loss: 0.3399 - accuracy: 0.8192 - val_loss: 0.3389 - val_accuracy: 0.8188\n",
      "Epoch 42/100\n",
      "4/4 - 0s - loss: 0.3393 - accuracy: 0.8175 - val_loss: 0.3378 - val_accuracy: 0.8166\n",
      "Epoch 43/100\n",
      "4/4 - 0s - loss: 0.3392 - accuracy: 0.8195 - val_loss: 0.3376 - val_accuracy: 0.8166\n",
      "Epoch 44/100\n",
      "4/4 - 0s - loss: 0.3369 - accuracy: 0.8189 - val_loss: 0.3350 - val_accuracy: 0.8233\n",
      "Epoch 45/100\n",
      "4/4 - 0s - loss: 0.3366 - accuracy: 0.8229 - val_loss: 0.3340 - val_accuracy: 0.8233\n",
      "Epoch 46/100\n",
      "4/4 - 0s - loss: 0.3352 - accuracy: 0.8195 - val_loss: 0.3351 - val_accuracy: 0.8121\n",
      "Epoch 47/100\n",
      "4/4 - 0s - loss: 0.3346 - accuracy: 0.8173 - val_loss: 0.3331 - val_accuracy: 0.8255\n",
      "Epoch 48/100\n",
      "4/4 - 0s - loss: 0.3341 - accuracy: 0.8234 - val_loss: 0.3336 - val_accuracy: 0.8233\n",
      "Epoch 49/100\n",
      "4/4 - 0s - loss: 0.3330 - accuracy: 0.8243 - val_loss: 0.3346 - val_accuracy: 0.8210\n"
     ]
    },
    {
     "data": {
      "text/plain": [
       "<tensorflow.python.keras.callbacks.History at 0x13142074040>"
      ]
     },
     "execution_count": 3,
     "metadata": {},
     "output_type": "execute_result"
    }
   ],
   "source": [
    "# Set the input and output sizes\n",
    "input_size = 10\n",
    "output_size = 2\n",
    "# Use same hidden layer size for both hidden layers. Not a necessity.\n",
    "hidden_layer_size = 50\n",
    "    \n",
    "# define how the model will look like\n",
    "model = tf.keras.Sequential([\n",
    "    # tf.keras.layers.Dense is basically implementing: output = activation(dot(input, weight) + bias)\n",
    "    # it takes several arguments, but the most important ones for us are the hidden_layer_size and the activation function\n",
    "    tf.keras.layers.Dense(hidden_layer_size, activation='relu'), # 1st hidden layer\n",
    "    tf.keras.layers.Dense(hidden_layer_size, activation='relu'), # 2nd hidden layer\n",
    "    # the final layer is no different, we just make sure to activate it with softmax\n",
    "    tf.keras.layers.Dense(output_size, activation='softmax') # output layer\n",
    "])\n",
    "\n",
    "\n",
    "### Choose the optimizer and the loss function\n",
    "\n",
    "# we define the optimizer we'd like to use, \n",
    "# the loss function, \n",
    "# and the metrics we are interested in obtaining at each iteration\n",
    "model.compile(optimizer='adam', loss='sparse_categorical_crossentropy', metrics=['accuracy'])\n",
    "\n",
    "### Training\n",
    "# That's where we train the model we have built.\n",
    "\n",
    "# set the batch size\n",
    "batch_size = 1000\n",
    "\n",
    "# set a maximum number of training epochs\n",
    "max_epochs = 100\n",
    "\n",
    "# set an early stopping mechanism\n",
    "# let's set patience=2, to be a bit tolerant against random validation loss increases\n",
    "early_stopping = tf.keras.callbacks.EarlyStopping(patience=2)\n",
    "\n",
    "# fit the model\n",
    "# note that this time the train, validation and test data are not iterable\n",
    "model.fit(train_inputs, # train inputs\n",
    "          train_targets, # train targets\n",
    "          batch_size=batch_size, # batch size\n",
    "          epochs=max_epochs, # epochs that we will train for (assuming early stopping doesn't kick in)\n",
    "          # callbacks are functions called by a task when a task is completed\n",
    "          # task here is to check if val_loss is increasing\n",
    "          callbacks=[early_stopping], # early stopping\n",
    "          validation_data=(validation_inputs, validation_targets), # validation data\n",
    "          verbose = 2 # making sure we get enough information about the training process\n",
    "          )  \n",
    "\n"
   ]
  },
  {
   "cell_type": "code",
   "execution_count": 4,
   "id": "5bfaf072",
   "metadata": {},
   "outputs": [
    {
     "data": {
      "text/plain": [
       "3579"
      ]
     },
     "execution_count": 4,
     "metadata": {},
     "output_type": "execute_result"
    }
   ],
   "source": [
    "train_inputs.shape[0]"
   ]
  },
  {
   "cell_type": "markdown",
   "id": "756ea657",
   "metadata": {},
   "source": [
    "## Test the model\n",
    "\n",
    "As we discussed in the lectures, after training on the training data and validating on the validation data, we test the final prediction power of our model by running it on the test dataset that the algorithm has NEVER seen before.\n",
    "\n",
    "It is very important to realize that fiddling with the hyperparameters overfits the validation dataset. \n",
    "\n",
    "The test is the absolute final instance. You should not test before you are completely done with adjusting your model.\n",
    "\n",
    "If you adjust your model after testing, you will start overfitting the test dataset, which will defeat its purpose."
   ]
  },
  {
   "cell_type": "code",
   "execution_count": 5,
   "id": "f28949bd",
   "metadata": {},
   "outputs": [
    {
     "name": "stdout",
     "output_type": "stream",
     "text": [
      "14/14 [==============================] - 0s 2ms/step - loss: 0.3556 - accuracy: 0.7924\n"
     ]
    }
   ],
   "source": [
    "test_loss, test_accuracy = model.evaluate(test_inputs, test_targets)"
   ]
  },
  {
   "cell_type": "code",
   "execution_count": 6,
   "id": "a8076706",
   "metadata": {},
   "outputs": [
    {
     "name": "stdout",
     "output_type": "stream",
     "text": [
      "\n",
      "Test loss: 0.36. Test accuracy: 79.24%\n"
     ]
    }
   ],
   "source": [
    "print('\\nTest loss: {0:.2f}. Test accuracy: {1:.2f}%'.format(test_loss, test_accuracy*100.))"
   ]
  },
  {
   "cell_type": "markdown",
   "id": "fe031ff9",
   "metadata": {},
   "source": [
    "Using the initial model and hyperparameters given in this notebook, the final test accuracy should be roughly around 91%.\n",
    "\n",
    "Note that each time the code is rerun, we get a different accuracy because each training is different. \n",
    "\n",
    "We have intentionally reached a suboptimal solution, so you can have space to build on it!"
   ]
  },
  {
   "cell_type": "code",
   "execution_count": null,
   "id": "afe5d4f6",
   "metadata": {},
   "outputs": [],
   "source": []
  },
  {
   "cell_type": "code",
   "execution_count": null,
   "id": "56b775a2",
   "metadata": {},
   "outputs": [],
   "source": []
  }
 ],
 "metadata": {
  "kernelspec": {
   "display_name": "Python [conda env:root] *",
   "language": "python",
   "name": "conda-root-py"
  },
  "language_info": {
   "codemirror_mode": {
    "name": "ipython",
    "version": 3
   },
   "file_extension": ".py",
   "mimetype": "text/x-python",
   "name": "python",
   "nbconvert_exporter": "python",
   "pygments_lexer": "ipython3",
   "version": "3.8.8"
  }
 },
 "nbformat": 4,
 "nbformat_minor": 5
}
