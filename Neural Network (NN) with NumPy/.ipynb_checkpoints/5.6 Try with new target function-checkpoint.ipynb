{
 "cells": [
  {
   "cell_type": "markdown",
   "id": "ac3a488e",
   "metadata": {},
   "source": [
    "# Simple Linear Regression. Minimal example. Exercise - Solution"
   ]
  },
  {
   "cell_type": "markdown",
   "id": "2e594d97",
   "metadata": {},
   "source": [
    "# Using the same code as before, please solve the following exercises\n",
    "    6. Create a function f(x,z) = 13*xs + 7*zs - 12. Does the algorithm work in the same way?\n",
    "    \n",
    "    \n",
    "Useful tip: When you change something, don't forget to RERUN all cells. This can be done easily by clicking:\n",
    "Kernel -> Restart & Run All\n",
    "If you don't do that, your algorithm will keep the OLD values of all parameters.\n",
    "\n",
    "## Solution\n",
    "\n",
    "Find the line of code, where we declare the targets, and change it from:\n",
    "\n",
    "targets = 2*xs - 3*zs + 5 + noise\n",
    "\n",
    "to \n",
    "\n",
    "targets = 13*xs + 7*zs - 12 + noise\n",
    "\n",
    "Some takeaways:\n",
    "\n",
    "1. The solution is almost found, judging by the values of the loss and those of the weights and biases.\n",
    "2. I would say this algorithm is AS effective as that in the lecture. Still needs more iterations.\n",
    "3. All else equal, the values of the loss are higher, as the values of the targets are higher.\n",
    "4. The same algorithm and methodology solved a completely different problem. That's machine learning for you. \n",
    "\n",
    "However if we change the learning rate to 0.04, we can get the pretty exact result at the first 100 iterations without any further steps"
   ]
  },
  {
   "cell_type": "markdown",
   "id": "9799504d",
   "metadata": {},
   "source": [
    "## Import relevant libraries"
   ]
  },
  {
   "cell_type": "code",
   "execution_count": 28,
   "id": "9727ee10",
   "metadata": {},
   "outputs": [],
   "source": [
    "# mathematical operations\n",
    "import numpy as np\n",
    "\n",
    "#nice graphs\n",
    "import matplotlib.pyplot as plt\n",
    "\n",
    "#nice 3D graphs\n",
    "from mpl_toolkits.mplot3d import Axes3D"
   ]
  },
  {
   "cell_type": "markdown",
   "id": "ef1e6214",
   "metadata": {},
   "source": [
    "## Generate random input data to train on"
   ]
  },
  {
   "cell_type": "markdown",
   "id": "4575375e",
   "metadata": {},
   "source": [
    "This part is not part of the ML algorithm, create \"fake\" data, cuz in real-life, we would normally import data from some external sources."
   ]
  },
  {
   "cell_type": "code",
   "execution_count": 29,
   "id": "bb940f93",
   "metadata": {},
   "outputs": [
    {
     "name": "stdout",
     "output_type": "stream",
     "text": [
      "(100000, 2)\n"
     ]
    }
   ],
   "source": [
    "observations = 100000\n",
    "\n",
    "#We are about to create a two variable linear model\n",
    "# f(x,z) = a*x + b*z + c\n",
    "Xs = np.random.uniform(low=-10, high=10, size=(observations,1))\n",
    "Zs = np.random.uniform(-10, 10, size=(observations,1))\n",
    "\n",
    "# Combine 2 (Xs, Zs) into a 2-column matrix\n",
    "# This results in a matrix with dimensions 1000x2.\n",
    "inputs = np.column_stack((Xs, Zs))\n",
    "\n",
    "print(inputs.shape)"
   ]
  },
  {
   "cell_type": "markdown",
   "id": "6daade55",
   "metadata": {},
   "source": [
    "## Elements of the model in supervized learning\n",
    "\n",
    "1) inputs => done \n",
    "\n",
    "2) weights => computer\n",
    "\n",
    "3) biases => computer\n",
    "\n",
    "4) outputs => computer\n",
    "\n",
    "5) targets => to do"
   ]
  },
  {
   "cell_type": "markdown",
   "id": "be2b6ecc",
   "metadata": {},
   "source": [
    "## Create the targets we will aim at"
   ]
  },
  {
   "cell_type": "markdown",
   "id": "a5cc9c69",
   "metadata": {},
   "source": [
    "### Targets = f(x,z) = 2x - 3z + 5 + noise\n",
    "\n",
    "2 is the target weight_1\n",
    "\n",
    "-3 is the target weight_2\n",
    "\n",
    "5 is the target bias"
   ]
  },
  {
   "cell_type": "code",
   "execution_count": 30,
   "id": "39ba7538",
   "metadata": {},
   "outputs": [
    {
     "name": "stdout",
     "output_type": "stream",
     "text": [
      "(100000, 1)\n"
     ]
    }
   ],
   "source": [
    "noise = np.random.uniform(-1,1,(observations,1))\n",
    "\n",
    "targets = 13*Xs + 7*Zs - 12 + noise\n",
    "\n",
    "print(targets.shape)"
   ]
  },
  {
   "cell_type": "markdown",
   "id": "108ae3a4",
   "metadata": {},
   "source": [
    "### Plot the training data\n",
    "The point is to see that there is a strong trend that our model should learn to reproduce."
   ]
  },
  {
   "cell_type": "code",
   "execution_count": 31,
   "id": "2d211bf7",
   "metadata": {},
   "outputs": [
    {
     "data": {
      "text/plain": [
       "array([[  58.81846698],\n",
       "       [ -53.11210176],\n",
       "       [  61.54463614],\n",
       "       ...,\n",
       "       [-122.70434863],\n",
       "       [-145.53484017],\n",
       "       [ -42.1494185 ]])"
      ]
     },
     "execution_count": 31,
     "metadata": {},
     "output_type": "execute_result"
    }
   ],
   "source": [
    "targets"
   ]
  },
  {
   "cell_type": "code",
   "execution_count": 32,
   "id": "df9c482f",
   "metadata": {},
   "outputs": [
    {
     "data": {
      "text/plain": [
       "array([[ 7.76880018],\n",
       "       [ 1.06355834],\n",
       "       [ 6.11251373],\n",
       "       ...,\n",
       "       [-5.5157262 ],\n",
       "       [-5.60139604],\n",
       "       [-2.06445559]])"
      ]
     },
     "execution_count": 32,
     "metadata": {},
     "output_type": "execute_result"
    }
   ],
   "source": [
    "Xs"
   ]
  },
  {
   "cell_type": "code",
   "execution_count": 33,
   "id": "7004ddd9",
   "metadata": {},
   "outputs": [
    {
     "data": {
      "image/png": "[encoded data removed]",
      "text/plain": [
       "<Figure size 432x288 with 1 Axes>"
      ]
     },
     "metadata": {
      "needs_background": "light"
     },
     "output_type": "display_data"
    }
   ],
   "source": [
    "tagets = targets.reshape(observations,)\n",
    "Xs = Xs.reshape(observations,)\n",
    "Zs = Zs.reshape(observations,)\n",
    "# In order to use the 3D plot, the objects should have a certain shape, so we reshape the targets.\n",
    "# The proper method to use is reshape and takes as arguments the dimensions in which we want to fit the object.\n",
    "targets = targets.reshape(observations,)\n",
    "\n",
    "# Plotting according to the conventional matplotlib.pyplot syntax\n",
    "\n",
    "# Declare the figure\n",
    "fig = plt.figure()\n",
    "\n",
    "# A method allowing us to create the 3D plot\n",
    "ax = fig.add_subplot(111, projection='3d')\n",
    "\n",
    "# Choose the axes.\n",
    "ax.plot(Xs, Zs, targets)\n",
    "\n",
    "# Set labels\n",
    "ax.set_xlabel('xs')\n",
    "ax.set_ylabel('zs')\n",
    "ax.set_zlabel('Targets')\n",
    "\n",
    "# You can fiddle with the azim parameter to plot the data from different angles. Just change the value of azim=100\n",
    "# to azim = 0 ; azim = 200, or whatever. Check and see what happens.\n",
    "ax.view_init(azim=100)\n",
    "\n",
    "# So far we were just describing the plot. This method actually shows the plot. \n",
    "plt.show()\n",
    "\n",
    "# We reshape the targets back to the shape that they were in before plotting.\n",
    "# This reshaping is a side-effect of the 3D plot. Sorry for that.\n",
    "targets = targets.reshape(observations,1)"
   ]
  },
  {
   "cell_type": "code",
   "execution_count": null,
   "id": "3b9ddee6",
   "metadata": {},
   "outputs": [],
   "source": []
  },
  {
   "cell_type": "markdown",
   "id": "ef27b27a",
   "metadata": {},
   "source": [
    "## Initialize variable"
   ]
  },
  {
   "cell_type": "code",
   "execution_count": 34,
   "id": "9a6b64b3",
   "metadata": {},
   "outputs": [
    {
     "name": "stdout",
     "output_type": "stream",
     "text": [
      "[[-0.03866071]\n",
      " [ 0.08581488]]\n",
      "[-0.02027124]\n"
     ]
    }
   ],
   "source": [
    "# We will initialize the weights and biases randomly in some small initial range.\n",
    "# init_range is the variable that will measure that.\n",
    "# You can play around with the initial range, but we don't really encourage you to do so.\n",
    "# High initial ranges may prevent the machine learning algorithm from learning.\n",
    "init_range = 0.1\n",
    "\n",
    "# Weights are of size k x m, where k is the number of input variables and m is the number of output variables\n",
    "# In our case, the weights matrix is 2x1 since there are 2 inputs (x and z) and one output (y)\n",
    "weights = np.random.uniform(low=-init_range, high=init_range, size=(2, 1))\n",
    "\n",
    "# Biases are of size 1 since there is only 1 output. The bias is a scalar.\n",
    "biases = np.random.uniform(low=-init_range, high=init_range, size=1)\n",
    "\n",
    "#Print the weights to get a sense of how they were initialized.\n",
    "print (weights)\n",
    "print (biases)"
   ]
  },
  {
   "cell_type": "markdown",
   "id": "e5ff7902",
   "metadata": {},
   "source": [
    "### Set a learning rate"
   ]
  },
  {
   "cell_type": "code",
   "execution_count": 35,
   "id": "e5d5726d",
   "metadata": {},
   "outputs": [],
   "source": [
    "# Set some small learning rate (denoted eta in the lecture). \n",
    "# 0.02 is going to work quite well for our example. Once again, you can play around with it.\n",
    "# It is HIGHLY recommended that you play around with it.\n",
    "learning_rate = 0.04"
   ]
  },
  {
   "cell_type": "markdown",
   "id": "f57183f4",
   "metadata": {},
   "source": [
    "## Train the model"
   ]
  },
  {
   "cell_type": "code",
   "execution_count": 36,
   "id": "88435860",
   "metadata": {
    "scrolled": true
   },
   "outputs": [
    {
     "name": "stdout",
     "output_type": "stream",
     "text": [
      "3703.610556498702\n",
      "471.8165052277779\n",
      "106.43814648870321\n",
      "61.43005633854257\n",
      "52.529582507951005\n",
      "47.966416998095056\n",
      "44.16772103488828\n",
      "40.71230903416652\n",
      "37.53288557330259\n",
      "34.60329755798186\n",
      "31.903452776153628\n",
      "29.415282843227512\n",
      "27.12218613198987\n",
      "25.008868201043775\n",
      "23.061234321789584\n",
      "21.26629486227304\n",
      "19.61207858506682\n",
      "18.087552798166946\n",
      "16.682549772282783\n",
      "15.387698927706507\n",
      "14.194364337807663\n",
      "13.094587132260079\n",
      "12.081032415854317\n",
      "11.146940348873501\n",
      "10.286081062765454\n",
      "9.49271311042454\n",
      "8.761545173969717\n",
      "8.087700774631166\n",
      "7.466685749380544\n",
      "6.8943582773920955\n",
      "6.3669012564278615\n",
      "5.8807968449135135\n",
      "5.432802999914071\n",
      "5.019931854531632\n",
      "4.639429790514169\n",
      "4.288759073171027\n",
      "3.9655809261102637\n",
      "3.6677399329159943\n",
      "3.3932496617335692\n",
      "3.140279416886639\n",
      "2.9071420291670433\n",
      "2.6922826033653813\n",
      "2.4942681479947835\n",
      "2.3117780180439165\n",
      "2.14359510701776\n",
      "1.9885977295220825\n",
      "1.8457521402528891\n",
      "1.7141056394968976\n",
      "1.5927802191604084\n",
      "1.480966706949334\n",
      "1.3779193696452328\n",
      "1.282950939484304\n",
      "1.1954280304680818\n",
      "1.1147669140351641\n",
      "1.0404296259201296\n",
      "0.9719203782345613\n",
      "0.9087822528407444\n",
      "0.8505941539647986\n",
      "0.7969679997247412\n",
      "0.7475461338426835\n",
      "0.7019989402786986\n",
      "0.6600226448772735\n",
      "0.6213372893645913\n",
      "0.5856848641843537\n",
      "0.5528275877192174\n",
      "0.5225463204211729\n",
      "0.4946391032740462\n",
      "0.46891981084049444\n",
      "0.4452169099100604\n",
      "0.42337231546915755\n",
      "0.40324033636296763\n",
      "0.3846867036174125\n",
      "0.3675876749406406\n",
      "0.35182920943155804\n",
      "0.3373062069911726\n",
      "0.32392180736407006\n",
      "0.3115867441350122\n",
      "0.3002187493721544\n",
      "0.2897420049462373\n",
      "0.2800866368663195\n",
      "0.2711882492595658\n",
      "0.2629874948870107\n",
      "0.25542967933085986\n",
      "0.24846439621349614\n",
      "0.24204519101530358\n",
      "0.23612925124915288\n",
      "0.2306771209252038\n",
      "0.22565243740164823\n",
      "0.22102168886634713\n",
      "0.2167539908319024\n",
      "0.2128208801534965\n",
      "0.20919612519573205\n",
      "0.20585555088238416\n",
      "0.20277687746224263\n",
      "0.19993957191570394\n",
      "0.19732471101108448\n",
      "0.1949148550973095\n",
      "0.19269393179125938\n",
      "0.19064712878400608\n",
      "0.18876079505105525\n"
     ]
    }
   ],
   "source": [
    "for i in range(100):\n",
    "    outputs = np.dot(inputs,weights) + biases\n",
    "    deltas = outputs-targets\n",
    "    \n",
    "    # L2-norm loss formula: sum[(outputs-targets)^2]\n",
    "    # Loss/observation = Mean (average) loss\n",
    "    loss = np.sum(deltas ** 2) / 2 / observations\n",
    "    \n",
    "    # We print the loss at each step, as we want to keep an eye on whether it is DECREASING\n",
    "    # If it is decreasing, our ML algorithm functions well\n",
    "    print(loss)\n",
    "    \n",
    "    # Another small trick is to scale the deltas the same way as the loss function\n",
    "    # In this way our learning rate is independent of the number of samples (observations).\n",
    "    # Again, this doesn't change anything in principle, it simply makes it easier to pick a single learning rate\n",
    "    # that can remain the same if we change the number of training samples (observations).\n",
    "    # You can try solving the problem without rescaling to see how that works for you.\n",
    "    deltas_scaled = deltas / observations\n",
    "    \n",
    "    # Update the WEIGHTS and BIASES so they are ready for the next iteration.\n",
    "    # Finally, we must apply the gradient descent update rules from the relevant lecture.\n",
    "    # The weights are 2x1, learning rate is 1x1 (scalar), INPUTS are 1000x2, and deltas_scaled are 1000x1\n",
    "    # We must transpose the INPUTS so that we get an allowed operation. -> INPUTS (2x1000)\n",
    "    weights = weights - learning_rate * np.dot(inputs.T,deltas_scaled)\n",
    "    biases = biases - learning_rate * np.sum(deltas_scaled)\n",
    "    \n",
    "    #Note: transposing matrices doesn't affect the information they hold, so we can do it freely.\n",
    "    \n",
    "    # The weights are updated in a linear algebraic way (a matrix minus another matrix)\n",
    "    # The biases, however, are just a single number here, so we must transform the deltas into a scalar.\n",
    "    # The two lines are both consistent with the gradient descent methodology. "
   ]
  },
  {
   "cell_type": "markdown",
   "id": "09b8ab39",
   "metadata": {},
   "source": [
    "### Print weights and biases and see if we have worked correctly."
   ]
  },
  {
   "cell_type": "code",
   "execution_count": 37,
   "id": "33d4ef85",
   "metadata": {},
   "outputs": [
    {
     "name": "stdout",
     "output_type": "stream",
     "text": [
      "[[12.99957605]\n",
      " [ 7.00008264]] [-11.800227]\n"
     ]
    }
   ],
   "source": [
    "# We print the weights and the biases, so we can see if they have converged to what we wanted.\n",
    "# When declared the targets, following the f(x,z), we knew the weights should be 2 and -3, while the bias: 5.\n",
    "print (weights, biases)\n",
    "\n",
    "# Note that they may be convergING. So more iterations are needed."
   ]
  },
  {
   "cell_type": "markdown",
   "id": "1f871490",
   "metadata": {},
   "source": [
    "After the first for...loop run we get the weights: Xs=1.99, Zs=-3.00.\n",
    "\n",
    "So the weights seems about right.\n",
    "\n",
    "The bias is 4.3 quite close to 5, but we want more.\n",
    "\n",
    "That's because we use to few iteration or an inappropriate learning rate. So let re-run the for..loop for another 100 iterations."
   ]
  },
  {
   "cell_type": "markdown",
   "id": "38ce60af",
   "metadata": {},
   "source": [
    "After the second loop, we get the weights: Xs=2.00, Zs=-3.00\n",
    "\n",
    "And the bias has increased to 4.9 "
   ]
  },
  {
   "cell_type": "markdown",
   "id": "fbbd7135",
   "metadata": {},
   "source": [
    "### Plot last outputs vs targets\n",
    "Since they are the last ones at the end of the training, they represent the final model accuracy. <br/>\n",
    "The closer this plot is to a 45 degree line, the closer target and output values are."
   ]
  },
  {
   "cell_type": "code",
   "execution_count": 38,
   "id": "3945e5e2",
   "metadata": {},
   "outputs": [
    {
     "data": {
      "image/png": "[encoded data removed]",
      "text/plain": [
       "<Figure size 432x288 with 1 Axes>"
      ]
     },
     "metadata": {
      "needs_background": "light"
     },
     "output_type": "display_data"
    }
   ],
   "source": [
    "# We print the outputs and the targets in order to see if they have a linear relationship.\n",
    "# Again, that's not needed. Moreover, in later lectures, that would not even be possible.\n",
    "plt.plot(outputs,targets)\n",
    "plt.xlabel('outputs')\n",
    "plt.ylabel('targets')\n",
    "plt.show()"
   ]
  },
  {
   "cell_type": "code",
   "execution_count": null,
   "id": "bd0b047d",
   "metadata": {},
   "outputs": [],
   "source": []
  },
  {
   "cell_type": "code",
   "execution_count": null,
   "id": "cb1639be",
   "metadata": {},
   "outputs": [],
   "source": []
  },
  {
   "cell_type": "code",
   "execution_count": null,
   "id": "f01d1f4d",
   "metadata": {},
   "outputs": [],
   "source": []
  }
 ],
 "metadata": {
  "kernelspec": {
   "display_name": "Python 3",
   "language": "python",
   "name": "python3"
  },
  "language_info": {
   "codemirror_mode": {
    "name": "ipython",
    "version": 3
   },
   "file_extension": ".py",
   "mimetype": "text/x-python",
   "name": "python",
   "nbconvert_exporter": "python",
   "pygments_lexer": "ipython3",
   "version": "3.8.8"
  }
 },
 "nbformat": 4,
 "nbformat_minor": 5
}
