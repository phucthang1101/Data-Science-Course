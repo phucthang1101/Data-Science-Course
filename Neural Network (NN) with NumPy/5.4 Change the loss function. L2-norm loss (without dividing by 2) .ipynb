{
 "cells": [
  {
   "cell_type": "markdown",
   "id": "08da1925",
   "metadata": {},
   "source": [
    "# Simple Linear Regression. Minimal example. Exercise - Solution"
   ]
  },
  {
   "cell_type": "markdown",
   "id": "feba3f52",
   "metadata": {},
   "source": [
    "# Using the same code as before, please solve the following exercises\n",
    "    4. Change the loss function. L2-norm loss (without dividing by 2) is a good way to start. \n",
    "    \n",
    "    \n",
    "Useful tip: When you change something, don't forget to RERUN all cells. This can be done easily by clicking:\n",
    "Kernel -> Restart & Run All\n",
    "If you don't do that, your algorithm will keep the OLD values of all parameters.\n",
    "\n",
    "Find the variable \"loss\", where we defined the loss function. Change it from:\n",
    "\n",
    "\"loss = np.sum(deltas ** 2) / 2 / observations\"\n",
    "\n",
    "to \n",
    "\n",
    "\"loss = np.sum(deltas ** 2) / observations\"\n",
    "    \n",
    "\n",
    "\n",
    "\n",
    "\n",
    "\n",
    "Here are some takeaways:\n",
    "1. It takes the algorithm the same time to finish working.\n",
    "2. The loss is as minimized as the one in the lecture.\n",
    "3. The weights and biases are almost the same as the ones in the lecture.\n",
    "4. The problem is as solved as that in the lecture.\n",
    "5. More iterations would yield a better result./\n"
   ]
  },
  {
   "cell_type": "markdown",
   "id": "7d8e8f54",
   "metadata": {},
   "source": [
    "## Import relevant libraries"
   ]
  },
  {
   "cell_type": "code",
   "execution_count": 1,
   "id": "55f60fe7",
   "metadata": {},
   "outputs": [],
   "source": [
    "# mathematical operations\n",
    "import numpy as np\n",
    "\n",
    "#nice graphs\n",
    "import matplotlib.pyplot as plt\n",
    "\n",
    "#nice 3D graphs\n",
    "from mpl_toolkits.mplot3d import Axes3D"
   ]
  },
  {
   "cell_type": "markdown",
   "id": "c974d1a4",
   "metadata": {},
   "source": [
    "## Generate random input data to train on"
   ]
  },
  {
   "cell_type": "markdown",
   "id": "93db9bf0",
   "metadata": {},
   "source": [
    "This part is not part of the ML algorithm, create \"fake\" data, cuz in real-life, we would normally import data from some external sources."
   ]
  },
  {
   "cell_type": "code",
   "execution_count": 2,
   "id": "1960aa70",
   "metadata": {},
   "outputs": [
    {
     "name": "stdout",
     "output_type": "stream",
     "text": [
      "(100000, 2)\n"
     ]
    }
   ],
   "source": [
    "observations = 100000\n",
    "\n",
    "#We are about to create a two variable linear model\n",
    "# f(x,z) = a*x + b*z + c\n",
    "Xs = np.random.uniform(low=-10, high=10, size=(observations,1))\n",
    "Zs = np.random.uniform(-10, 10, size=(observations,1))\n",
    "\n",
    "# Combine 2 (Xs, Zs) into a 2-column matrix\n",
    "# This results in a matrix with dimensions 1000x2.\n",
    "inputs = np.column_stack((Xs, Zs))\n",
    "\n",
    "print(inputs.shape)"
   ]
  },
  {
   "cell_type": "markdown",
   "id": "e4fcb1e9",
   "metadata": {},
   "source": [
    "## Elements of the model in supervized learning\n",
    "\n",
    "1) inputs => done \n",
    "\n",
    "2) weights => computer\n",
    "\n",
    "3) biases => computer\n",
    "\n",
    "4) outputs => computer\n",
    "\n",
    "5) targets => to do"
   ]
  },
  {
   "cell_type": "markdown",
   "id": "d5b4a445",
   "metadata": {},
   "source": [
    "## Create the targets we will aim at"
   ]
  },
  {
   "cell_type": "markdown",
   "id": "151a6e39",
   "metadata": {},
   "source": [
    "### Targets = f(x,z) = 2x - 3z + 5 + noise\n",
    "\n",
    "2 is the target weight_1\n",
    "\n",
    "-3 is the target weight_2\n",
    "\n",
    "5 is the target bias"
   ]
  },
  {
   "cell_type": "code",
   "execution_count": 3,
   "id": "effecfff",
   "metadata": {},
   "outputs": [
    {
     "name": "stdout",
     "output_type": "stream",
     "text": [
      "(100000, 1)\n"
     ]
    }
   ],
   "source": [
    "noise = np.random.uniform(-1,1,(observations,1))\n",
    "\n",
    "targets = 2*Xs - 3*Zs + 5 + noise\n",
    "\n",
    "print(targets.shape)"
   ]
  },
  {
   "cell_type": "markdown",
   "id": "ca57b2f9",
   "metadata": {},
   "source": [
    "### Plot the training data\n",
    "The point is to see that there is a strong trend that our model should learn to reproduce."
   ]
  },
  {
   "cell_type": "code",
   "execution_count": 4,
   "id": "316a00b7",
   "metadata": {},
   "outputs": [
    {
     "data": {
      "text/plain": [
       "array([[-22.0315009 ],\n",
       "       [ 17.16257258],\n",
       "       [ 22.47228065],\n",
       "       ...,\n",
       "       [ 15.33602037],\n",
       "       [ -2.2323951 ],\n",
       "       [ 25.96835572]])"
      ]
     },
     "execution_count": 4,
     "metadata": {},
     "output_type": "execute_result"
    }
   ],
   "source": [
    "targets"
   ]
  },
  {
   "cell_type": "code",
   "execution_count": 5,
   "id": "73592e96",
   "metadata": {},
   "outputs": [
    {
     "data": {
      "text/plain": [
       "array([[-6.26457874],\n",
       "       [-3.20629695],\n",
       "       [ 3.01549812],\n",
       "       ...,\n",
       "       [-8.68602866],\n",
       "       [-3.88942725],\n",
       "       [ 8.97687988]])"
      ]
     },
     "execution_count": 5,
     "metadata": {},
     "output_type": "execute_result"
    }
   ],
   "source": [
    "Xs"
   ]
  },
  {
   "cell_type": "code",
   "execution_count": 6,
   "id": "3216ecc7",
   "metadata": {},
   "outputs": [
    {
     "data": {
      "image/png": "[encoded data removed]",
      "text/plain": [
       "<Figure size 432x288 with 1 Axes>"
      ]
     },
     "metadata": {
      "needs_background": "light"
     },
     "output_type": "display_data"
    }
   ],
   "source": [
    "tagets = targets.reshape(observations,)\n",
    "Xs = Xs.reshape(observations,)\n",
    "Zs = Zs.reshape(observations,)\n",
    "# In order to use the 3D plot, the objects should have a certain shape, so we reshape the targets.\n",
    "# The proper method to use is reshape and takes as arguments the dimensions in which we want to fit the object.\n",
    "targets = targets.reshape(observations,)\n",
    "\n",
    "# Plotting according to the conventional matplotlib.pyplot syntax\n",
    "\n",
    "# Declare the figure\n",
    "fig = plt.figure()\n",
    "\n",
    "# A method allowing us to create the 3D plot\n",
    "ax = fig.add_subplot(111, projection='3d')\n",
    "\n",
    "# Choose the axes.\n",
    "ax.plot(Xs, Zs, targets)\n",
    "\n",
    "# Set labels\n",
    "ax.set_xlabel('xs')\n",
    "ax.set_ylabel('zs')\n",
    "ax.set_zlabel('Targets')\n",
    "\n",
    "# You can fiddle with the azim parameter to plot the data from different angles. Just change the value of azim=100\n",
    "# to azim = 0 ; azim = 200, or whatever. Check and see what happens.\n",
    "ax.view_init(azim=100)\n",
    "\n",
    "# So far we were just describing the plot. This method actually shows the plot. \n",
    "plt.show()\n",
    "\n",
    "# We reshape the targets back to the shape that they were in before plotting.\n",
    "# This reshaping is a side-effect of the 3D plot. Sorry for that.\n",
    "targets = targets.reshape(observations,1)"
   ]
  },
  {
   "cell_type": "code",
   "execution_count": null,
   "id": "d7beabbf",
   "metadata": {},
   "outputs": [],
   "source": []
  },
  {
   "cell_type": "markdown",
   "id": "1d12dbcb",
   "metadata": {},
   "source": [
    "## Initialize variable"
   ]
  },
  {
   "cell_type": "code",
   "execution_count": 7,
   "id": "76019000",
   "metadata": {},
   "outputs": [
    {
     "name": "stdout",
     "output_type": "stream",
     "text": [
      "[[-0.07318455]\n",
      " [ 0.07192108]]\n",
      "[0.01502416]\n"
     ]
    }
   ],
   "source": [
    "# We will initialize the weights and biases randomly in some small initial range.\n",
    "# init_range is the variable that will measure that.\n",
    "# You can play around with the initial range, but we don't really encourage you to do so.\n",
    "# High initial ranges may prevent the machine learning algorithm from learning.\n",
    "init_range = 0.1\n",
    "\n",
    "# Weights are of size k x m, where k is the number of input variables and m is the number of output variables\n",
    "# In our case, the weights matrix is 2x1 since there are 2 inputs (x and z) and one output (y)\n",
    "weights = np.random.uniform(low=-init_range, high=init_range, size=(2, 1))\n",
    "\n",
    "# Biases are of size 1 since there is only 1 output. The bias is a scalar.\n",
    "biases = np.random.uniform(low=-init_range, high=init_range, size=1)\n",
    "\n",
    "#Print the weights to get a sense of how they were initialized.\n",
    "print (weights)\n",
    "print (biases)"
   ]
  },
  {
   "cell_type": "markdown",
   "id": "4d4c7b87",
   "metadata": {},
   "source": [
    "### Set a learning rate"
   ]
  },
  {
   "cell_type": "code",
   "execution_count": 8,
   "id": "8fe813e3",
   "metadata": {},
   "outputs": [],
   "source": [
    "# Set some small learning rate (denoted eta in the lecture). \n",
    "# 0.02 is going to work quite well for our example. Once again, you can play around with it.\n",
    "# It is HIGHLY recommended that you play around with it.\n",
    "learning_rate = 0.02"
   ]
  },
  {
   "cell_type": "markdown",
   "id": "42f8afab",
   "metadata": {},
   "source": [
    "## Train the model"
   ]
  },
  {
   "cell_type": "code",
   "execution_count": 12,
   "id": "6ad0fa21",
   "metadata": {
    "scrolled": true
   },
   "outputs": [
    {
     "name": "stdout",
     "output_type": "stream",
     "text": [
      "0.7695820506321657\n",
      "0.7522586285033208\n",
      "0.7356212122696333\n",
      "0.7196426361618519\n",
      "0.7042968101726459\n",
      "0.6895586774565333\n",
      "0.6754041734167677\n",
      "0.6618101864123829\n",
      "0.6487545200212317\n",
      "0.6362158567974074\n",
      "0.6241737234638641\n",
      "0.6126084574834123\n",
      "0.6015011749534959\n",
      "0.5908337397723329\n",
      "0.5805887340260741\n",
      "0.5707494295486286\n",
      "0.5612997606077152\n",
      "0.5522242976725529\n",
      "0.5435082222203309\n",
      "0.5351373025403569\n",
      "0.5270978704963499\n",
      "0.5193767992089476\n",
      "0.5119614816219792\n",
      "0.5048398099175219\n",
      "0.49800015574610623\n",
      "0.49143135123981674\n",
      "0.4851226707772608\n",
      "0.4790638134706482\n",
      "0.473244886346383\n",
      "0.46765638819169725\n",
      "0.4622891940409587\n",
      "0.45713454027632267\n",
      "0.452184010318387\n",
      "0.4474295208835099\n",
      "0.4428633087853239\n",
      "0.4384779182589144\n",
      "0.4342661887869615\n",
      "0.43022124340795975\n",
      "0.42633647748743564\n",
      "0.42260554793382377\n",
      "0.41902236284139005\n",
      "0.4155810715432984\n",
      "0.41227605505857223\n",
      "0.4091019169173531\n",
      "0.4060534743494871\n",
      "0.4031257498220325\n",
      "0.4003139629118848\n",
      "0.3976135225002496\n",
      "0.39502001927620406\n",
      "0.3925292185371287\n",
      "0.39013705327422826\n",
      "0.3878396175318773\n",
      "0.3856331600299269\n",
      "0.3835140780385714\n",
      "0.3814789114957669\n",
      "0.3795243373576048\n",
      "0.37764716417240285\n",
      "0.37584432686966707\n",
      "0.37411288175540763\n",
      "0.37245000170564263\n",
      "0.3708529715502342\n",
      "0.3693191836395277\n",
      "0.3678461335865518\n",
      "0.3664314161778245\n",
      "0.3650727214460913\n",
      "0.363767830898587\n",
      "0.36251461389465084\n",
      "0.36131102416679295\n",
      "0.3601550964795249\n",
      "0.35904494342050014\n",
      "0.357978752318723\n",
      "0.3569547822848013\n",
      "0.35597136136839813\n",
      "0.35502688382825515\n",
      "0.35411980751031663\n",
      "0.353248651329683\n",
      "0.3524119928522792\n",
      "0.3516084659722847\n",
      "0.350836758681543\n",
      "0.3500956109272979\n",
      "0.3493838125547633\n",
      "0.34870020133116975\n",
      "0.3480436610480581\n",
      "0.3474131196987177\n",
      "0.34680754772780437\n",
      "0.34622595635026904\n",
      "0.34566739593685836\n",
      "0.3451309544635478\n",
      "0.3446157560223795\n",
      "0.3441209593912689\n",
      "0.34364575666044667\n",
      "0.34318937191329474\n",
      "0.34275105995942123\n",
      "0.3423301051179033\n",
      "0.34192582004871613\n",
      "0.34153754463043523\n",
      "0.34116464488238324\n",
      "0.3408065119294573\n",
      "0.3404625610079532\n",
      "0.34013223051075314\n"
     ]
    }
   ],
   "source": [
    "for i in range(100):\n",
    "    outputs = np.dot(inputs,weights) + biases\n",
    "    deltas = outputs-targets\n",
    "    \n",
    "    # L2-norm loss formula: sum[(outputs-targets)^2]\n",
    "    # Loss/observation = Mean (average) loss\n",
    "    loss = np.sum(deltas ** 2) / observations\n",
    "    \n",
    "    # We print the loss at each step, as we want to keep an eye on whether it is DECREASING\n",
    "    # If it is decreasing, our ML algorithm functions well\n",
    "    print(loss)\n",
    "    \n",
    "    # Another small trick is to scale the deltas the same way as the loss function\n",
    "    # In this way our learning rate is independent of the number of samples (observations).\n",
    "    # Again, this doesn't change anything in principle, it simply makes it easier to pick a single learning rate\n",
    "    # that can remain the same if we change the number of training samples (observations).\n",
    "    # You can try solving the problem without rescaling to see how that works for you.\n",
    "    deltas_scaled = deltas / observations\n",
    "    \n",
    "    # Update the WEIGHTS and BIASES so they are ready for the next iteration.\n",
    "    # Finally, we must apply the gradient descent update rules from the relevant lecture.\n",
    "    # The weights are 2x1, learning rate is 1x1 (scalar), INPUTS are 1000x2, and deltas_scaled are 1000x1\n",
    "    # We must transpose the INPUTS so that we get an allowed operation. -> INPUTS (2x1000)\n",
    "    weights = weights - learning_rate * np.dot(inputs.T,deltas_scaled)\n",
    "    biases = biases - learning_rate * np.sum(deltas_scaled)\n",
    "    \n",
    "    #Note: transposing matrices doesn't affect the information they hold, so we can do it freely.\n",
    "    \n",
    "    # The weights are updated in a linear algebraic way (a matrix minus another matrix)\n",
    "    # The biases, however, are just a single number here, so we must transform the deltas into a scalar.\n",
    "    # The two lines are both consistent with the gradient descent methodology. "
   ]
  },
  {
   "cell_type": "markdown",
   "id": "09018fda",
   "metadata": {},
   "source": [
    "### Print weights and biases and see if we have worked correctly."
   ]
  },
  {
   "cell_type": "code",
   "execution_count": 13,
   "id": "8b3830b3",
   "metadata": {},
   "outputs": [
    {
     "name": "stdout",
     "output_type": "stream",
     "text": [
      "[[ 2.00010094]\n",
      " [-3.00008596]] [4.9148537]\n"
     ]
    }
   ],
   "source": [
    "# We print the weights and the biases, so we can see if they have converged to what we wanted.\n",
    "# When declared the targets, following the f(x,z), we knew the weights should be 2 and -3, while the bias: 5.\n",
    "print (weights, biases)\n",
    "\n",
    "# Note that they may be convergING. So more iterations are needed."
   ]
  },
  {
   "cell_type": "markdown",
   "id": "b6e1240b",
   "metadata": {},
   "source": [
    "After the first for...loop run we get the weights: Xs=1.99, Zs=-3.00.\n",
    "\n",
    "So the weights seems about right.\n",
    "\n",
    "The bias is 4.3 quite close to 5, but we want more.\n",
    "\n",
    "That's because we use to few iteration or an inappropriate learning rate. So let re-run the for..loop for another 100 iterations."
   ]
  },
  {
   "cell_type": "markdown",
   "id": "bb787f80",
   "metadata": {},
   "source": [
    "After the second loop, we get the weights: Xs=2.00, Zs=-3.00\n",
    "\n",
    "And the bias has increased to 4.9 "
   ]
  },
  {
   "cell_type": "markdown",
   "id": "e056ce83",
   "metadata": {},
   "source": [
    "### Plot last outputs vs targets\n",
    "Since they are the last ones at the end of the training, they represent the final model accuracy. <br/>\n",
    "The closer this plot is to a 45 degree line, the closer target and output values are."
   ]
  },
  {
   "cell_type": "code",
   "execution_count": 11,
   "id": "ad2618d3",
   "metadata": {},
   "outputs": [
    {
     "data": {
      "image/png": "[encoded data removed]",
      "text/plain": [
       "<Figure size 432x288 with 1 Axes>"
      ]
     },
     "metadata": {
      "needs_background": "light"
     },
     "output_type": "display_data"
    }
   ],
   "source": [
    "# We print the outputs and the targets in order to see if they have a linear relationship.\n",
    "# Again, that's not needed. Moreover, in later lectures, that would not even be possible.\n",
    "plt.plot(outputs,targets)\n",
    "plt.xlabel('outputs')\n",
    "plt.ylabel('targets')\n",
    "plt.show()"
   ]
  },
  {
   "cell_type": "code",
   "execution_count": null,
   "id": "4cb709a4",
   "metadata": {},
   "outputs": [],
   "source": []
  },
  {
   "cell_type": "code",
   "execution_count": null,
   "id": "4c23c53b",
   "metadata": {},
   "outputs": [],
   "source": []
  },
  {
   "cell_type": "code",
   "execution_count": null,
   "id": "f8bc8fba",
   "metadata": {},
   "outputs": [],
   "source": []
  }
 ],
 "metadata": {
  "kernelspec": {
   "display_name": "Python 3",
   "language": "python",
   "name": "python3"
  },
  "language_info": {
   "codemirror_mode": {
    "name": "ipython",
    "version": 3
   },
   "file_extension": ".py",
   "mimetype": "text/x-python",
   "name": "python",
   "nbconvert_exporter": "python",
   "pygments_lexer": "ipython3",
   "version": "3.8.8"
  }
 },
 "nbformat": 4,
 "nbformat_minor": 5
}
