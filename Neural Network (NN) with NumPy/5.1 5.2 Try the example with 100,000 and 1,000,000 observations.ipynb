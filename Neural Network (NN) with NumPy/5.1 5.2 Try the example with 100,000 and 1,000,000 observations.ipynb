{
 "cells": [
  {
   "cell_type": "markdown",
   "id": "3838b2f5",
   "metadata": {},
   "source": [
    "# Simple Linear Regression. Minimal example. Exercise - Solution"
   ]
  },
  {
   "cell_type": "markdown",
   "id": "eece2a19",
   "metadata": {},
   "source": [
    "# Using the same code as before, please solve the following exercises\n",
    "    1. Change the number of observations to 100,000 and see what happens.\n",
    "    2. Change the number of observations to 1,000,000 and see what happens.\n",
    "    3. Play around with the learning rate. Values like 0.0001, 0.001, 0.1, 1 are all interesting to observe. \n",
    "    4. Change the loss function. L2-norm loss (without dividing by 2) is a good way to start. \n",
    "    5. Тry with the L1-norm loss, given by the sum of the ABSOLUTE value of yj - tj. The L1-norm loss is given by:\n",
    "## $$ \\Sigma_i = |y_i-t_i| $$\n",
    "    6. Create a function f(x,z) = 13*xs + 7*zs - 12. Does the algorithm work in the same way?\n",
    "    \n",
    "    \n",
    "Useful tip: When you change something, don't forget to RERUN all cells. This can be done easily by clicking:\n",
    "Kernel -> Restart & Run All\n",
    "If you don't do that, your algorithm will keep the OLD values of all parameters.\n",
    "\n",
    "You can either use this file for all the exercises, or check the solutions of EACH ONE of them in the separate files we have provided. All other files are solutions of each problem. If you feel confident enough, you can simply change values in this file. Please note that it will be nice, if you return the file to starting position after you have solved a problem, so you can use the lecture as a basis for comparison."
   ]
  },
  {
   "cell_type": "markdown",
   "id": "b7696995",
   "metadata": {},
   "source": [
    "## Import relevant libraries"
   ]
  },
  {
   "cell_type": "code",
   "execution_count": 1,
   "id": "b1adf9fe",
   "metadata": {},
   "outputs": [],
   "source": [
    "# mathematical operations\n",
    "import numpy as np\n",
    "\n",
    "#nice graphs\n",
    "import matplotlib.pyplot as plt\n",
    "\n",
    "#nice 3D graphs\n",
    "from mpl_toolkits.mplot3d import Axes3D"
   ]
  },
  {
   "cell_type": "markdown",
   "id": "c2aa4c3f",
   "metadata": {},
   "source": [
    "## Generate random input data to train on"
   ]
  },
  {
   "cell_type": "markdown",
   "id": "f56a6c27",
   "metadata": {},
   "source": [
    "This part is not part of the ML algorithm, create \"fake\" data, cuz in real-life, we would normally import data from some external sources."
   ]
  },
  {
   "cell_type": "code",
   "execution_count": 2,
   "id": "430d93b1",
   "metadata": {},
   "outputs": [
    {
     "name": "stdout",
     "output_type": "stream",
     "text": [
      "(100000, 2)\n"
     ]
    }
   ],
   "source": [
    "observations = 100000\n",
    "\n",
    "#We are about to create a two variable linear model\n",
    "# f(x,z) = a*x + b*z + c\n",
    "Xs = np.random.uniform(low=-10, high=10, size=(observations,1))\n",
    "Zs = np.random.uniform(-10, 10, size=(observations,1))\n",
    "\n",
    "# Combine 2 (Xs, Zs) into a 2-column matrix\n",
    "# This results in a matrix with dimensions 1000x2.\n",
    "inputs = np.column_stack((Xs, Zs))\n",
    "\n",
    "print(inputs.shape)"
   ]
  },
  {
   "cell_type": "markdown",
   "id": "147f841f",
   "metadata": {},
   "source": [
    "## Elements of the model in supervized learning\n",
    "\n",
    "1) inputs => done \n",
    "\n",
    "2) weights => computer\n",
    "\n",
    "3) biases => computer\n",
    "\n",
    "4) outputs => computer\n",
    "\n",
    "5) targets => to do"
   ]
  },
  {
   "cell_type": "markdown",
   "id": "95a86f37",
   "metadata": {},
   "source": [
    "## Create the targets we will aim at"
   ]
  },
  {
   "cell_type": "markdown",
   "id": "cf716211",
   "metadata": {},
   "source": [
    "### Targets = f(x,z) = 2x - 3z + 5 + noise\n",
    "\n",
    "2 is the target weight_1\n",
    "\n",
    "-3 is the target weight_2\n",
    "\n",
    "5 is the target bias"
   ]
  },
  {
   "cell_type": "code",
   "execution_count": 3,
   "id": "3cb7ba43",
   "metadata": {},
   "outputs": [
    {
     "name": "stdout",
     "output_type": "stream",
     "text": [
      "(100000, 1)\n"
     ]
    }
   ],
   "source": [
    "noise = np.random.uniform(-1,1,(observations,1))\n",
    "\n",
    "targets = 2*Xs - 3*Zs + 5 + noise\n",
    "\n",
    "print(targets.shape)"
   ]
  },
  {
   "cell_type": "markdown",
   "id": "1f7cc2e1",
   "metadata": {},
   "source": [
    "### Plot the training data\n",
    "The point is to see that there is a strong trend that our model should learn to reproduce."
   ]
  },
  {
   "cell_type": "code",
   "execution_count": 4,
   "id": "95bcdc91",
   "metadata": {},
   "outputs": [
    {
     "data": {
      "text/plain": [
       "array([[ 15.30070579],\n",
       "       [-14.31204016],\n",
       "       [ 18.13981523],\n",
       "       ...,\n",
       "       [ -3.47013093],\n",
       "       [-28.15763224],\n",
       "       [-30.64694414]])"
      ]
     },
     "execution_count": 4,
     "metadata": {},
     "output_type": "execute_result"
    }
   ],
   "source": [
    "targets"
   ]
  },
  {
   "cell_type": "code",
   "execution_count": 5,
   "id": "d792bedc",
   "metadata": {},
   "outputs": [
    {
     "data": {
      "text/plain": [
       "array([[-5.16054124],\n",
       "       [-4.67548367],\n",
       "       [ 9.00646381],\n",
       "       ...,\n",
       "       [-6.21211435],\n",
       "       [-8.72848445],\n",
       "       [-7.45252996]])"
      ]
     },
     "execution_count": 5,
     "metadata": {},
     "output_type": "execute_result"
    }
   ],
   "source": [
    "Xs"
   ]
  },
  {
   "cell_type": "code",
   "execution_count": 6,
   "id": "7dee62a4",
   "metadata": {},
   "outputs": [
    {
     "data": {
      "image/png": "[encoded data removed]",
      "text/plain": [
       "<Figure size 432x288 with 1 Axes>"
      ]
     },
     "metadata": {
      "needs_background": "light"
     },
     "output_type": "display_data"
    }
   ],
   "source": [
    "tagets = targets.reshape(observations,)\n",
    "Xs = Xs.reshape(observations,)\n",
    "Zs = Zs.reshape(observations,)\n",
    "# In order to use the 3D plot, the objects should have a certain shape, so we reshape the targets.\n",
    "# The proper method to use is reshape and takes as arguments the dimensions in which we want to fit the object.\n",
    "targets = targets.reshape(observations,)\n",
    "\n",
    "# Plotting according to the conventional matplotlib.pyplot syntax\n",
    "\n",
    "# Declare the figure\n",
    "fig = plt.figure()\n",
    "\n",
    "# A method allowing us to create the 3D plot\n",
    "ax = fig.add_subplot(111, projection='3d')\n",
    "\n",
    "# Choose the axes.\n",
    "ax.plot(Xs, Zs, targets)\n",
    "\n",
    "# Set labels\n",
    "ax.set_xlabel('xs')\n",
    "ax.set_ylabel('zs')\n",
    "ax.set_zlabel('Targets')\n",
    "\n",
    "# You can fiddle with the azim parameter to plot the data from different angles. Just change the value of azim=100\n",
    "# to azim = 0 ; azim = 200, or whatever. Check and see what happens.\n",
    "ax.view_init(azim=100)\n",
    "\n",
    "# So far we were just describing the plot. This method actually shows the plot. \n",
    "plt.show()\n",
    "\n",
    "# We reshape the targets back to the shape that they were in before plotting.\n",
    "# This reshaping is a side-effect of the 3D plot. Sorry for that.\n",
    "targets = targets.reshape(observations,1)"
   ]
  },
  {
   "cell_type": "code",
   "execution_count": null,
   "id": "104e64fd",
   "metadata": {},
   "outputs": [],
   "source": []
  },
  {
   "cell_type": "markdown",
   "id": "54d21e09",
   "metadata": {},
   "source": [
    "## Initialize variable"
   ]
  },
  {
   "cell_type": "code",
   "execution_count": 7,
   "id": "bc77d435",
   "metadata": {},
   "outputs": [
    {
     "name": "stdout",
     "output_type": "stream",
     "text": [
      "[[0.05492496]\n",
      " [0.08682812]]\n",
      "[-0.09586382]\n"
     ]
    }
   ],
   "source": [
    "# We will initialize the weights and biases randomly in some small initial range.\n",
    "# init_range is the variable that will measure that.\n",
    "# You can play around with the initial range, but we don't really encourage you to do so.\n",
    "# High initial ranges may prevent the machine learning algorithm from learning.\n",
    "init_range = 0.1\n",
    "\n",
    "# Weights are of size k x m, where k is the number of input variables and m is the number of output variables\n",
    "# In our case, the weights matrix is 2x1 since there are 2 inputs (x and z) and one output (y)\n",
    "weights = np.random.uniform(low=-init_range, high=init_range, size=(2, 1))\n",
    "\n",
    "# Biases are of size 1 since there is only 1 output. The bias is a scalar.\n",
    "biases = np.random.uniform(low=-init_range, high=init_range, size=1)\n",
    "\n",
    "#Print the weights to get a sense of how they were initialized.\n",
    "print (weights)\n",
    "print (biases)"
   ]
  },
  {
   "cell_type": "markdown",
   "id": "a11fa6be",
   "metadata": {},
   "source": [
    "### Set a learning rate"
   ]
  },
  {
   "cell_type": "code",
   "execution_count": 8,
   "id": "64ade050",
   "metadata": {},
   "outputs": [],
   "source": [
    "# Set some small learning rate (denoted eta in the lecture). \n",
    "# 0.02 is going to work quite well for our example. Once again, you can play around with it.\n",
    "# It is HIGHLY recommended that you play around with it.\n",
    "learning_rate = 0.02"
   ]
  },
  {
   "cell_type": "markdown",
   "id": "1f191380",
   "metadata": {},
   "source": [
    "## Train the model"
   ]
  },
  {
   "cell_type": "code",
   "execution_count": 12,
   "id": "fb0971f4",
   "metadata": {
    "scrolled": true
   },
   "outputs": [
    {
     "name": "stdout",
     "output_type": "stream",
     "text": [
      "0.3961855422327442\n",
      "0.3871218828652369\n",
      "0.3784171403412881\n",
      "0.37005710171495965\n",
      "0.3620281168665941\n",
      "0.35431707621514824\n",
      "0.34691138931310467\n",
      "0.3397989642890154\n",
      "0.3329681881041188\n",
      "0.326407907590775\n",
      "0.3201074112417766\n",
      "0.31405641172079735\n",
      "0.30824502906541074\n",
      "0.3026637745552695\n",
      "0.29730353521909375\n",
      "0.29215555895517786\n",
      "0.2872114402411142\n",
      "0.28246310640941186\n",
      "0.277902804466589\n",
      "0.2735230884342271\n",
      "0.26931680719131224\n",
      "0.2652770927980115\n",
      "0.2613973492818291\n",
      "0.25767124186781953\n",
      "0.25409268663528173\n",
      "0.2506558405840454\n",
      "0.24735509209412346\n",
      "0.2441850517631637\n",
      "0.24114054360672693\n",
      "0.23821659660703604\n",
      "0.23540843659638624\n",
      "0.23271147846197254\n",
      "0.23012131865939825\n",
      "0.22763372802264975\n",
      "0.22524464485878892\n",
      "0.22295016831609502\n",
      "0.22074655201482601\n",
      "0.2186301979301953\n",
      "0.21659765051758412\n",
      "0.21464559107038925\n",
      "0.21277083230129978\n",
      "0.21097031313815226\n",
      "0.20924109372586688\n",
      "0.20758035062630595\n",
      "0.20598537220821483\n",
      "0.20445355421971992\n",
      "0.20298239553615313\n",
      "0.20156949407626013\n",
      "0.20021254288012735\n",
      "0.19890932634241817\n",
      "0.19765771659477246\n",
      "0.19645567003146275\n",
      "0.19530122397263164\n",
      "0.1941924934596625\n",
      "0.19312766817745472\n",
      "0.19210500949857295\n",
      "0.191122847644448\n",
      "0.19017957895899296\n",
      "0.18927366329018172\n",
      "0.18840362147531814\n",
      "0.18756803292588436\n",
      "0.18676553330803083\n",
      "0.18599481231491546\n",
      "0.18525461152725994\n",
      "0.184543722358624\n",
      "0.1838609840820486\n",
      "0.1832052819348407\n",
      "0.18257554529841039\n",
      "0.18197074595018312\n",
      "0.18138989638473663\n",
      "0.1808320482014205\n",
      "0.18029629055582455\n",
      "0.1797817486725685\n",
      "0.17928758241698423\n",
      "0.17881298492335973\n",
      "0.17835718127750316\n",
      "0.17791942725147647\n",
      "0.17749900808843475\n",
      "0.17709523733558272\n",
      "0.17670745572334814\n",
      "0.17633503008893764\n",
      "0.17597735234252046\n",
      "0.17563383847435063\n",
      "0.1753039276012054\n",
      "0.1749870810505864\n",
      "0.17468278148118435\n",
      "0.17439053203817367\n",
      "0.17410985554195663\n",
      "0.17384029370903395\n",
      "0.17358140640372668\n",
      "0.17333277091953175\n",
      "0.17309398128893363\n",
      "0.1728646476205483\n",
      "0.17264439546251556\n",
      "0.17243286519110088\n",
      "0.1722297114235082\n",
      "0.1720346024539451\n",
      "0.17184721971202002\n",
      "0.1716672572425854\n",
      "0.17149442120618075\n"
     ]
    }
   ],
   "source": [
    "for i in range(100):\n",
    "    outputs = np.dot(inputs,weights) + biases\n",
    "    deltas = outputs-targets\n",
    "    \n",
    "    # L2-norm loss formula: sum[(outputs-targets)^2]\n",
    "    # Loss/observation = Mean (average) loss\n",
    "    loss = np.sum(deltas ** 2) / 2 / observations\n",
    "    \n",
    "    # We print the loss at each step, as we want to keep an eye on whether it is DECREASING\n",
    "    # If it is decreasing, our ML algorithm functions well\n",
    "    print(loss)\n",
    "    \n",
    "    # Another small trick is to scale the deltas the same way as the loss function\n",
    "    # In this way our learning rate is independent of the number of samples (observations).\n",
    "    # Again, this doesn't change anything in principle, it simply makes it easier to pick a single learning rate\n",
    "    # that can remain the same if we change the number of training samples (observations).\n",
    "    # You can try solving the problem without rescaling to see how that works for you.\n",
    "    deltas_scaled = deltas / observations\n",
    "    \n",
    "    # Update the WEIGHTS and BIASES so they are ready for the next iteration.\n",
    "    # Finally, we must apply the gradient descent update rules from the relevant lecture.\n",
    "    # The weights are 2x1, learning rate is 1x1 (scalar), INPUTS are 1000x2, and deltas_scaled are 1000x1\n",
    "    # We must transpose the INPUTS so that we get an allowed operation. -> INPUTS (2x1000)\n",
    "    weights = weights - learning_rate * np.dot(inputs.T,deltas_scaled)\n",
    "    biases = biases - learning_rate * np.sum(deltas_scaled)\n",
    "    \n",
    "    #Note: transposing matrices doesn't affect the information they hold, so we can do it freely.\n",
    "    \n",
    "    # The weights are updated in a linear algebraic way (a matrix minus another matrix)\n",
    "    # The biases, however, are just a single number here, so we must transform the deltas into a scalar.\n",
    "    # The two lines are both consistent with the gradient descent methodology. "
   ]
  },
  {
   "cell_type": "markdown",
   "id": "153a1472",
   "metadata": {},
   "source": [
    "### Print weights and biases and see if we have worked correctly."
   ]
  },
  {
   "cell_type": "code",
   "execution_count": 13,
   "id": "f71a1668",
   "metadata": {},
   "outputs": [
    {
     "name": "stdout",
     "output_type": "stream",
     "text": [
      "[[ 2.00023115]\n",
      " [-3.00031488]] [4.91540029]\n"
     ]
    }
   ],
   "source": [
    "# We print the weights and the biases, so we can see if they have converged to what we wanted.\n",
    "# When declared the targets, following the f(x,z), we knew the weights should be 2 and -3, while the bias: 5.\n",
    "print (weights, biases)\n",
    "\n",
    "# Note that they may be convergING. So more iterations are needed."
   ]
  },
  {
   "cell_type": "markdown",
   "id": "06c41b64",
   "metadata": {},
   "source": [
    "After the first for...loop run we get the weights: Xs=1.99, Zs=-3.00.\n",
    "\n",
    "So the weights seems about right.\n",
    "\n",
    "The bias is 4.3 quite close to 5, but we want more.\n",
    "\n",
    "That's because we use to few iteration or an inappropriate learning rate. So let re-run the for..loop for another 100 iterations."
   ]
  },
  {
   "cell_type": "markdown",
   "id": "e389b7bd",
   "metadata": {},
   "source": [
    "After the second loop, we get the weights: Xs=2.00, Zs=-3.00\n",
    "\n",
    "And the bias has increased to 4.9 "
   ]
  },
  {
   "cell_type": "markdown",
   "id": "a10d1504",
   "metadata": {},
   "source": [
    "### Plot last outputs vs targets\n",
    "Since they are the last ones at the end of the training, they represent the final model accuracy. <br/>\n",
    "The closer this plot is to a 45 degree line, the closer target and output values are."
   ]
  },
  {
   "cell_type": "code",
   "execution_count": 14,
   "id": "adb426fa",
   "metadata": {},
   "outputs": [
    {
     "data": {
      "image/png": "[encoded data removed]",
      "text/plain": [
       "<Figure size 432x288 with 1 Axes>"
      ]
     },
     "metadata": {
      "needs_background": "light"
     },
     "output_type": "display_data"
    }
   ],
   "source": [
    "# We print the outputs and the targets in order to see if they have a linear relationship.\n",
    "# Again, that's not needed. Moreover, in later lectures, that would not even be possible.\n",
    "plt.plot(outputs,targets)\n",
    "plt.xlabel('outputs')\n",
    "plt.ylabel('targets')\n",
    "plt.show()"
   ]
  },
  {
   "cell_type": "code",
   "execution_count": null,
   "id": "e508d78e",
   "metadata": {},
   "outputs": [],
   "source": []
  },
  {
   "cell_type": "code",
   "execution_count": null,
   "id": "e65548d0",
   "metadata": {},
   "outputs": [],
   "source": []
  }
 ],
 "metadata": {
  "kernelspec": {
   "display_name": "Python 3",
   "language": "python",
   "name": "python3"
  },
  "language_info": {
   "codemirror_mode": {
    "name": "ipython",
    "version": 3
   },
   "file_extension": ".py",
   "mimetype": "text/x-python",
   "name": "python",
   "nbconvert_exporter": "python",
   "pygments_lexer": "ipython3",
   "version": "3.8.8"
  }
 },
 "nbformat": 4,
 "nbformat_minor": 5
}
