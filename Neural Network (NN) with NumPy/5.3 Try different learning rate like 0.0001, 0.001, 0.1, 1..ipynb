{
 "cells": [
  {
   "cell_type": "markdown",
   "id": "a4bae5f3",
   "metadata": {},
   "source": [
    "# Simple Linear Regression. Minimal example. Exercise - Solution"
   ]
  },
  {
   "cell_type": "markdown",
   "id": "de71ce95",
   "metadata": {},
   "source": [
    "# Using the same code as before, please solve the following exercises\n",
    "    1. Change the number of observations to 100,000 and see what happens.\n",
    "    2. Change the number of observations to 1,000,000 and see what happens.\n",
    "    3. Play around with the learning rate. Values like 0.0001, 0.001, 0.1, 1 are all interesting to observe. \n",
    "    4. Change the loss function. L2-norm loss (without dividing by 2) is a good way to start. \n",
    "    5. Тry with the L1-norm loss, given by the sum of the ABSOLUTE value of yj - tj. The L1-norm loss is given by:\n",
    "## $$ \\Sigma_i = |y_i-t_i| $$\n",
    "    6. Create a function f(x,z) = 13*xs + 7*zs - 12. Does the algorithm work in the same way?\n",
    "    \n",
    "    \n",
    "Useful tip: When you change something, don't forget to RERUN all cells. This can be done easily by clicking:\n",
    "Kernel -> Restart & Run All\n",
    "If you don't do that, your algorithm will keep the OLD values of all parameters.\n",
    "\n",
    "You can either use this file for all the exercises, or check the solutions of EACH ONE of them in the separate files we have provided. All other files are solutions of each problem. If you feel confident enough, you can simply change values in this file. Please note that it will be nice, if you return the file to starting position after you have solved a problem, so you can use the lecture as a basis for comparison."
   ]
  },
  {
   "cell_type": "markdown",
   "id": "aa83aa9e",
   "metadata": {},
   "source": [
    "## Import relevant libraries"
   ]
  },
  {
   "cell_type": "code",
   "execution_count": 50,
   "id": "daabce1c",
   "metadata": {},
   "outputs": [],
   "source": [
    "import numpy as np\n",
    "import matplotlib.pyplot as plt\n",
    "\n",
    "#nice 3D graphs\n",
    "from mpl_toolkits.mplot3d import Axes3D"
   ]
  },
  {
   "cell_type": "markdown",
   "id": "6304e7a0",
   "metadata": {},
   "source": [
    "## Generate random input data to train on"
   ]
  },
  {
   "cell_type": "markdown",
   "id": "da797c3e",
   "metadata": {},
   "source": [
    "This part is not part of the ML algorithm, create \"fake\" data, cuz in real-life, we would normally import data from some external sources."
   ]
  },
  {
   "cell_type": "code",
   "execution_count": 51,
   "id": "8cf66320",
   "metadata": {},
   "outputs": [
    {
     "name": "stdout",
     "output_type": "stream",
     "text": [
      "(1000, 2)\n"
     ]
    }
   ],
   "source": [
    "observations = 1000\n",
    "\n",
    "Xs = np.random.uniform(-10, 10, size=(observations,1))\n",
    "Zs = np.random.uniform(-10, 10, size=(observations,1))\n",
    "\n",
    "#Combine to become a matrix\n",
    "inputs = np.column_stack((Xs,Zs))\n",
    "\n",
    "print(inputs.shape)"
   ]
  },
  {
   "cell_type": "markdown",
   "id": "8efd1dea",
   "metadata": {},
   "source": [
    "## Elements of the model in supervized learning\n",
    "\n",
    "1) inputs => done \n",
    "\n",
    "2) weights => computer\n",
    "\n",
    "3) biases => computer\n",
    "\n",
    "4) outputs => computer\n",
    "\n",
    "5) targets => to do"
   ]
  },
  {
   "cell_type": "markdown",
   "id": "3a5ce218",
   "metadata": {},
   "source": [
    "## Create the targets we will aim at"
   ]
  },
  {
   "cell_type": "markdown",
   "id": "738694d8",
   "metadata": {},
   "source": [
    "### Targets = f(x,z) = 2x - 3z + 5 + noise\n",
    "\n",
    "2 is the target weight_1\n",
    "\n",
    "-3 is the target weight_2\n",
    "\n",
    "5 is the target bias"
   ]
  },
  {
   "cell_type": "code",
   "execution_count": 101,
   "id": "4f3e65f8",
   "metadata": {
    "scrolled": true
   },
   "outputs": [
    {
     "name": "stdout",
     "output_type": "stream",
     "text": [
      "(1000, 1)\n"
     ]
    }
   ],
   "source": [
    "noise = np.random.uniform(-1,1,(observations,1))\n",
    "\n",
    "targets = 2*Xs - 3*Zs + 5 + noise\n",
    "\n",
    "print(targets.shape)"
   ]
  },
  {
   "cell_type": "markdown",
   "id": "4a38a80b",
   "metadata": {},
   "source": [
    "## Initialize variable"
   ]
  },
  {
   "cell_type": "code",
   "execution_count": 133,
   "id": "40c3e0b0",
   "metadata": {},
   "outputs": [
    {
     "name": "stdout",
     "output_type": "stream",
     "text": [
      "[[-0.0308484 ]\n",
      " [-0.02032308]]\n",
      "(1,)\n"
     ]
    }
   ],
   "source": [
    "init_range = 0.1\n",
    "\n",
    "weights = np.random.uniform(-init_range, init_range, size=(2,1))\n",
    "\n",
    "biases = np.random.uniform(-init_range, init_range, size=1)\n",
    "\n",
    "print (weights)\n",
    "print (biases.shape)"
   ]
  },
  {
   "cell_type": "markdown",
   "id": "7e99b1de",
   "metadata": {},
   "source": [
    "### Set a learning rate"
   ]
  },
  {
   "cell_type": "code",
   "execution_count": 134,
   "id": "03ea76d7",
   "metadata": {},
   "outputs": [],
   "source": [
    "# Set some small learning rate (denoted eta in the lecture). \n",
    "# 0.02 is going to work quite well for our example. Once again, you can play around with it.\n",
    "# It is HIGHLY recommended that you play around with it.\n",
    "learning_rate = 1"
   ]
  },
  {
   "cell_type": "markdown",
   "id": "9abce263",
   "metadata": {},
   "source": [
    "## Train the model"
   ]
  },
  {
   "cell_type": "code",
   "execution_count": 135,
   "id": "4e7efeee",
   "metadata": {
    "scrolled": true
   },
   "outputs": [
    {
     "name": "stdout",
     "output_type": "stream",
     "text": [
      "225.96356913618135\n",
      "219642.4494453925\n",
      "227368711.75893295\n",
      "236598845559.3868\n",
      "247558875822098.7\n"
     ]
    }
   ],
   "source": [
    "for i in range(5):\n",
    "    outputs = np.dot(inputs,weights) + biases\n",
    "    deltas = outputs - targets\n",
    "    \n",
    "    loss = np.sum(deltas ** 2) / 2 /observations\n",
    "    \n",
    "    print(loss)\n",
    "    \n",
    "    deltas_scaled = deltas/observations\n",
    "    \n",
    "    weights = weights - learning_rate * np.dot(inputs.T, deltas_scaled)\n",
    "    biases = biases - learning_rate * np.sum(deltas_scaled)"
   ]
  },
  {
   "cell_type": "markdown",
   "id": "c11177ab",
   "metadata": {},
   "source": [
    "### Print weights and biases and see if we have worked correctly."
   ]
  },
  {
   "cell_type": "code",
   "execution_count": 136,
   "id": "1ab73705",
   "metadata": {},
   "outputs": [
    {
     "name": "stdout",
     "output_type": "stream",
     "text": [
      "[[ 5.27931080e+07]\n",
      " [-1.13056988e+08]] [-631652.66243359]\n"
     ]
    }
   ],
   "source": [
    "# We print the weights and the biases, so we can see if they have converged to what we wanted.\n",
    "# When declared the targets, following the f(x,z), we knew the weights should be 2 and -3, while the bias: 5.\n",
    "print (weights, biases)\n",
    "\n",
    "# Note that they may be convergING. So more iterations are needed."
   ]
  },
  {
   "cell_type": "markdown",
   "id": "340740eb",
   "metadata": {},
   "source": [
    "(Learning rate: 0.0001):\n",
    "\n",
    "1st: weights: Xs=0.5, Zs=-0.8, bias = 0.10\n",
    "\n",
    "2nd: weights: Xs=0.92, Zs=-1.42, bias = 0.15\n",
    "\n",
    "3rd: weights: Xs=1.22, Zs=-1.86, bias = 0.2\n",
    "\n",
    "12th: weights: Xs = 1.99, Zs = -2.9, bias = 0.63\n",
    "\n",
    "...\n",
    "\n",
    "100th: weights: Xs = 2, Zs = -2.999, bias = 4.9\n"
   ]
  },
  {
   "cell_type": "markdown",
   "id": "8468c0fd",
   "metadata": {},
   "source": [
    "Learning rate =0.1, 1 cannot apply the same numbers such as init_range..., cannot find appropriate answer."
   ]
  },
  {
   "cell_type": "markdown",
   "id": "a3fafb15",
   "metadata": {},
   "source": [
    "### Plot last outputs vs targets\n",
    "Since they are the last ones at the end of the training, they represent the final model accuracy. <br/>\n",
    "The closer this plot is to a 45 degree line, the closer target and output values are."
   ]
  },
  {
   "cell_type": "code",
   "execution_count": 137,
   "id": "8119575a",
   "metadata": {},
   "outputs": [
    {
     "data": {
      "image/png": "[encoded data removed]",
      "text/plain": [
       "<Figure size 432x288 with 1 Axes>"
      ]
     },
     "metadata": {
      "needs_background": "light"
     },
     "output_type": "display_data"
    }
   ],
   "source": [
    "# We print the outputs and the targets in order to see if they have a linear relationship.\n",
    "# Again, that's not needed. Moreover, in later lectures, that would not even be possible.\n",
    "plt.plot(outputs,targets)\n",
    "plt.xlabel('outputs')\n",
    "plt.ylabel('targets')\n",
    "plt.show()"
   ]
  },
  {
   "cell_type": "code",
   "execution_count": null,
   "id": "61719a1d",
   "metadata": {},
   "outputs": [],
   "source": []
  }
 ],
 "metadata": {
  "kernelspec": {
   "display_name": "Python 3",
   "language": "python",
   "name": "python3"
  },
  "language_info": {
   "codemirror_mode": {
    "name": "ipython",
    "version": 3
   },
   "file_extension": ".py",
   "mimetype": "text/x-python",
   "name": "python",
   "nbconvert_exporter": "python",
   "pygments_lexer": "ipython3",
   "version": "3.8.8"
  }
 },
 "nbformat": 4,
 "nbformat_minor": 5
}
