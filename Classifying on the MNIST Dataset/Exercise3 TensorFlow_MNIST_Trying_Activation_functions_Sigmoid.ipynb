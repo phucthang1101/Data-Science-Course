{
 "cells": [
  {
   "cell_type": "markdown",
   "id": "dd8e727c",
   "metadata": {},
   "source": [
    "# Exercises"
   ]
  },
  {
   "cell_type": "markdown",
   "id": "4ce84a44",
   "metadata": {},
   "source": [
    "### 4. Fiddle with the activation functions. Try applying sigmoid transformation to both layers. The sigmoid activation is given by the method: tf.nn.sigmoid()\n",
    "\n",
    "**Solution**\n",
    "\n",
    "Find the part where we stack layers (Sequential()).\n",
    "\n",
    "Adjust the activations from 'relu' to 'sigmoid'.\n",
    "    \n",
    "Generally, we should reach a <b>worse</b> solution. That is because relu 'cleans' the noise in the data (think about it - if a value is negative, relu filters it out, while if it is positive, it takes it into account). For the MNIST dataset, we care only about the intensely black and white parts in the images of the digits, so such filtering proves beneficial.\n",
    "\n",
    "The sigmoid does not filter the signals as well as relu, but still reaches a respectable result (around 95%).\n",
    "\n",
    "**Try using softmax activations for all layers. How does the result change? Can you explain why that happens?**"
   ]
  },
  {
   "cell_type": "markdown",
   "id": "edc8a8e7",
   "metadata": {},
   "source": [
    "# Deep Neural Network for MNIST Classification"
   ]
  },
  {
   "cell_type": "markdown",
   "id": "376e59a3",
   "metadata": {},
   "source": [
    "We'll apply all the knowledge from the lectures in this section to write a deep neural network. The problem we've chosen is referred to as the \"Hello World\" of deep learning because for most students it is the first deep learning algorithm they see.\n",
    "\n",
    "The dataset provides 70,000 images (28x28 pixels) of handwritten digits (1 digit per image).\n",
    "\n",
    "The goal is to write an algorithm that detects which digit is written. Since there are only 10 digits (0, 1, 2, 3, 4, 5, 6, 7, 8, 9), this is a classification problem with 10 classes.\n",
    "\n",
    "Our goal would be to build a neural network with 2 hidden layers."
   ]
  },
  {
   "cell_type": "markdown",
   "id": "c615ba86",
   "metadata": {},
   "source": [
    "## Import relevant librabries"
   ]
  },
  {
   "cell_type": "code",
   "execution_count": 1,
   "id": "38d0a1a6",
   "metadata": {},
   "outputs": [],
   "source": [
    "import numpy as np\n",
    "import tensorflow as tf\n",
    "\n",
    "import tensorflow_datasets as tfds"
   ]
  },
  {
   "cell_type": "code",
   "execution_count": 2,
   "id": "e8b8d7a4",
   "metadata": {},
   "outputs": [
    {
     "name": "stdout",
     "output_type": "stream",
     "text": [
      "3.4.0\n"
     ]
    }
   ],
   "source": [
    "import h5py\n",
    "print(h5py.__version__);"
   ]
  },
  {
   "cell_type": "markdown",
   "id": "8f7748da",
   "metadata": {},
   "source": [
    "## Import data from tensorflow dataset"
   ]
  },
  {
   "cell_type": "markdown",
   "id": "08fbb3f1",
   "metadata": {},
   "source": [
    "<b>tfsd.load(name, with_info, as_supervised)</b> loads a dataset from Tensorflow datasets\n",
    "\n",
    "-> <b>as_supervised = True</b>, loads the data in 2-tuple structure [input, target], alternatively, as_supervised=False, would return a dictionary\n",
    "\n",
    "\n",
    "-> <b>with_info = True</b>, will also provide us with a tuple containing information about the version, features, number of samples\n",
    "\n",
    "we will use this information a bit below and we will store it in mnist_info\n"
   ]
  },
  {
   "cell_type": "code",
   "execution_count": 3,
   "id": "1e950a70",
   "metadata": {},
   "outputs": [],
   "source": [
    "mnist_dataset, mnist_info = tfds.load(name='mnist', with_info=True, as_supervised=True)"
   ]
  },
  {
   "cell_type": "markdown",
   "id": "92d717db",
   "metadata": {},
   "source": [
    "## Split into training and testing dataset"
   ]
  },
  {
   "cell_type": "markdown",
   "id": "dedd5eb8",
   "metadata": {},
   "source": [
    "<b>tf.cast(x, dtype) casts (converts) a variable into a given data type</b>\n",
    "\n",
    "<b> Standardization: </b>Normally, we'd like to scale our data in some ways to make the result more numerically stable (e.g. inputs between 0 and 1).\n",
    "\n",
    "Each pixel contain a number from 0 -> 255, representing the 256 levels of shades of gray. Therefore, we divide each pixel by 255 to get desired result (between 0 and 1)"
   ]
  },
  {
   "cell_type": "code",
   "execution_count": 4,
   "id": "b8714084",
   "metadata": {},
   "outputs": [],
   "source": [
    "# once we have loaded the dataset, we can easily extract the training and testing dataset with the built references\n",
    "mnist_train, mnist_test = mnist_dataset['train'], mnist_dataset['test']\n",
    "\n",
    "# by default, TF has training and testing datasets, but no validation sets\n",
    "# thus we must split it on our own\n",
    "\n",
    "# we start by defining the number of validation samples as a % of the train samples\n",
    "# this is also where we make use of mnist_info (we don't have to count the observations)\n",
    "num_validation_samples = 0.1 * mnist_info.splits['train'].num_examples\n",
    "# let's cast this number to an integer, as a float may cause an error along the way\n",
    "num_validation_samples = tf.cast(num_validation_samples, tf.int64)\n",
    "\n",
    "# let's also store the number of test samples in a dedicated variable (instead of using the mnist_info one)\n",
    "num_test_samples = mnist_info.splits['test'].num_examples\n",
    "# once more, we'd prefer an integer (rather than the default float)\n",
    "num_test_samples = tf.cast(num_test_samples, tf.int64)"
   ]
  },
  {
   "cell_type": "markdown",
   "id": "f633cfca",
   "metadata": {},
   "source": [
    "## Scale the data (both train and test)"
   ]
  },
  {
   "cell_type": "code",
   "execution_count": 5,
   "id": "e37ea852",
   "metadata": {},
   "outputs": [],
   "source": [
    "def scale(image, label):\n",
    "    image = tf.cast(image, tf.float32)\n",
    "    image /= 255.\n",
    "    return image, label\n",
    "\n",
    "# the method .map() allows us to apply a custom transformation to a given dataset\n",
    "# we have already decided that we will get the validation data from mnist_train, so \n",
    "scaled_train_and_validation_data = mnist_train.map(scale)\n",
    "\n",
    "\n",
    "test_data = mnist_test.map(scale)"
   ]
  },
  {
   "cell_type": "markdown",
   "id": "0467093b",
   "metadata": {},
   "source": [
    "## Shuffle the data randomly"
   ]
  },
  {
   "cell_type": "markdown",
   "id": "b989e69f",
   "metadata": {},
   "source": [
    "<b>take(number):</b> extracting the number of samples from the train and validation datasets \n",
    "\n",
    "<b>skip(numer):</b> skipping the number of samples <b>(skip the validation data)</b> from the train and validation datasets "
   ]
  },
  {
   "cell_type": "code",
   "execution_count": 6,
   "id": "7cfd0ae6",
   "metadata": {},
   "outputs": [],
   "source": [
    "BUFFER_SIZE = 10000\n",
    "# this BUFFER_SIZE parameter is here for cases when we're dealing with enormous datasets\n",
    "# then we can't shuffle the whole dataset in one go because we can't fit it all in memory\n",
    "# so instead TF only stores BUFFER_SIZE samples in memory at a time and shuffles them\n",
    "# if BUFFER_SIZE=1 => no shuffling will actually happen\n",
    "# if BUFFER_SIZE >= num samples => shuffling is uniform\n",
    "# BUFFER_SIZE in between - a computational optimization to approximate uniform shuffling\n",
    "\n",
    "shuffled_train_and_validation_data = scaled_train_and_validation_data.shuffle(BUFFER_SIZE)\n",
    "\n",
    "# once we have scaled and shuffled the data, we can proceed to actually extracting the train and validation\n",
    "# our validation data would be equal to 10% of the training set, which we've already calculated\n",
    "validation_data = shuffled_train_and_validation_data.take(num_validation_samples)\n",
    "train_data = shuffled_train_and_validation_data.skip(num_validation_samples)\n"
   ]
  },
  {
   "cell_type": "markdown",
   "id": "d22da8ac",
   "metadata": {},
   "source": [
    "## Set batch size and prepare our data for batching"
   ]
  },
  {
   "cell_type": "markdown",
   "id": "7c31079a",
   "metadata": {},
   "source": [
    "batch_size = 1 = Stochastic gradient descent (SGD)\n",
    "\n",
    "batch_size = number of samples = single batch gradient descent \n",
    "\n",
    "1 < batch size < number of samples = mini-batch gradient descent "
   ]
  },
  {
   "cell_type": "markdown",
   "id": "94bb2a22",
   "metadata": {},
   "source": [
    "<b>dataset.batch(batch_size): </b>a method that combines the consecutive elements of a dataset into batches\n",
    "\n",
    "<b>iter(): </b>creates an object which can be iterated one element at a time (e.g. in a for loop or while loop)\n",
    "\n",
    "<b>next(): </b>loads the next element of an iterable object -> wrap <b>iter()</b> inside a <b>next()</b>"
   ]
  },
  {
   "cell_type": "code",
   "execution_count": 7,
   "id": "5f71cddf",
   "metadata": {},
   "outputs": [],
   "source": [
    "BATCH_SIZE = 100\n",
    "\n",
    "train_data = train_data.batch(BATCH_SIZE)\n",
    "\n",
    "validation_data = validation_data.batch(num_validation_samples)\n",
    "\n",
    "test_data = test_data.batch(num_test_samples)\n",
    "\n",
    "# takes next batch (it is the only batch)\n",
    "# because as_supervized=True, we've got a 2-tuple structure\n",
    "validation_inputs, validation_targets = next(iter(validation_data))"
   ]
  },
  {
   "cell_type": "markdown",
   "id": "b2123184",
   "metadata": {},
   "source": [
    "## Model"
   ]
  },
  {
   "cell_type": "markdown",
   "id": "d1f3605b",
   "metadata": {},
   "source": [
    "### Outline the model"
   ]
  },
  {
   "cell_type": "markdown",
   "id": "1888cfb5",
   "metadata": {},
   "source": [
    "<b>tf.keras.Sequential()</b>: function that is laying down the model (used to 'stack layers)\n",
    "\n",
    "<b>tf.keras.layers.Flatten(original shape)</b>: transforms (flattens) a tensor into a vector  \n",
    "\n",
    "<b>tf.keras.layers.Dense(units,activation)</b> implements the operation: <b>output = activation(dot(input, kernel) + bias)</b> where <b>activation</b> is the <b>activation function</b> passed as the activation argument, <b>kernel</b> is a weights matrix created by the layer, and <b>bias</b> is a bias vector created by the layer, and <b>units</b> is positive integer, dimensionality of the output space."
   ]
  },
  {
   "cell_type": "code",
   "execution_count": 8,
   "id": "238d85d7",
   "metadata": {},
   "outputs": [],
   "source": [
    "input_size = 784\n",
    "output_size = 10\n",
    "# Use same hidden layer size for both hidden layers. Not a necessity.\n",
    "hidden_layer_size = 50\n",
    "    \n",
    "# define how the model will look like\n",
    "model = tf.keras.Sequential([\n",
    "    \n",
    "    # the first layer (the input layer)\n",
    "    # each observation is 28x28x1 pixels, therefore it is a tensor of rank 3\n",
    "    # since we don't know CNNs yet, we don't know how to feed such input into our net, so we must flatten the images\n",
    "    # there is a convenient method 'Flatten' that simply takes our 28x28x1 tensor and orders it into a (None,) \n",
    "    # or (28x28x1,) = (784,) vector\n",
    "    # this allows us to actually create a feed forward neural network\n",
    "    tf.keras.layers.Flatten(input_shape=(28, 28, 1)), # input layer\n",
    "    \n",
    "    # tf.keras.layers.Dense is basically implementing: output = activation(dot(input, weight) + bias)\n",
    "    # it takes several arguments, but the most important ones for us are the hidden_layer_size and the activation function\n",
    "    tf.keras.layers.Dense(hidden_layer_size, activation='sigmoid'), # 1st hidden layer\n",
    "    tf.keras.layers.Dense(hidden_layer_size, activation='sigmoid'), # 2nd hidden layer\n",
    "    \n",
    "    # the final layer is no different, we just make sure to activate it with softmax\n",
    "    tf.keras.layers.Dense(output_size, activation='softmax') # output layer\n",
    "])"
   ]
  },
  {
   "cell_type": "markdown",
   "id": "c7c81245",
   "metadata": {},
   "source": [
    "## Choose the optimizer and the loss function\n",
    "\n",
    "1. Data (done)\n",
    "\n",
    "2. Model (done)\n",
    "\n",
    "3. Objective function -> current\n",
    "\n",
    "4. Optimization algorithm"
   ]
  },
  {
   "cell_type": "markdown",
   "id": "f7e6ae7c",
   "metadata": {},
   "source": [
    "There are 3 built-in variations of across entropy-loss\n",
    "\n",
    "<b>binary_crossentropy</b>: refers to the case where we've got <b>binary encoding</b>\n",
    "\n",
    "<b>categorical_crossentropy</b>: expects that you've one-hot encoded the targets\n",
    "\n",
    "<b>sparse_categorical_crossentropy</b>: applies one-hot encoding \n"
   ]
  },
  {
   "cell_type": "markdown",
   "id": "aa99d5de",
   "metadata": {},
   "source": [
    "<b>model.compile(optimizer, loss, metrics)</b> configures the model for training"
   ]
  },
  {
   "cell_type": "code",
   "execution_count": 9,
   "id": "6aa045a7",
   "metadata": {},
   "outputs": [],
   "source": [
    "model.compile(optimizer='adam', loss='sparse_categorical_crossentropy', metrics=['accuracy'])"
   ]
  },
  {
   "cell_type": "markdown",
   "id": "0612c54f",
   "metadata": {},
   "source": [
    "## Training"
   ]
  },
  {
   "cell_type": "markdown",
   "id": "2ea29595",
   "metadata": {},
   "source": [
    "https://www.tensorflow.org/api_docs/python/tf/keras/Model#fit\n",
    "\n"
   ]
  },
  {
   "cell_type": "markdown",
   "id": "cf26cd20",
   "metadata": {},
   "source": [
    "## What happens inside an epoch?\n",
    "\n",
    "1. At the beginning of each epoch, the training loss will be set to 0\n",
    "\n",
    "2. the algorithm will iterate over a preset number of batches, all from train_data\n",
    "\n",
    "3. The weights and biases will be updated as many time as there are batches\n",
    "\n",
    "4. We will get a value for a loss function, indicating how the training is going\n",
    "\n",
    "5. We will also see a training accuracy \n",
    "\n",
    "6. At the end of epoch, the algorithm will foward propagate the whole validation set.\n",
    "\n",
    "*When we reach the maximum number of epochs the training will be over"
   ]
  },
  {
   "cell_type": "code",
   "execution_count": 10,
   "id": "46685166",
   "metadata": {},
   "outputs": [
    {
     "name": "stdout",
     "output_type": "stream",
     "text": [
      "Epoch 1/5\n",
      "WARNING:tensorflow:Callbacks method `on_test_batch_end` is slow compared to the batch time (batch time: 0.0000s vs `on_test_batch_end` time: 0.0010s). Check your callbacks.\n"
     ]
    },
    {
     "name": "stderr",
     "output_type": "stream",
     "text": [
      "WARNING:tensorflow:Callbacks method `on_test_batch_end` is slow compared to the batch time (batch time: 0.0000s vs `on_test_batch_end` time: 0.0010s). Check your callbacks.\n"
     ]
    },
    {
     "name": "stdout",
     "output_type": "stream",
     "text": [
      "540/540 - 4s - loss: 1.0223 - accuracy: 0.7726 - val_loss: 0.4489 - val_accuracy: 0.8942\n",
      "Epoch 2/5\n",
      "540/540 - 3s - loss: 0.3381 - accuracy: 0.9115 - val_loss: 0.2922 - val_accuracy: 0.9212\n",
      "Epoch 3/5\n",
      "540/540 - 3s - loss: 0.2498 - accuracy: 0.9289 - val_loss: 0.2411 - val_accuracy: 0.9338\n",
      "Epoch 4/5\n",
      "540/540 - 3s - loss: 0.2036 - accuracy: 0.9417 - val_loss: 0.2044 - val_accuracy: 0.9417\n",
      "Epoch 5/5\n",
      "540/540 - 3s - loss: 0.1729 - accuracy: 0.9501 - val_loss: 0.1781 - val_accuracy: 0.9505\n"
     ]
    },
    {
     "data": {
      "text/plain": [
       "<tensorflow.python.keras.callbacks.History at 0x21205db89d0>"
      ]
     },
     "execution_count": 10,
     "metadata": {},
     "output_type": "execute_result"
    }
   ],
   "source": [
    "NUM_EPOCHS = 5\n",
    "\n",
    "model.fit(train_data, epochs=NUM_EPOCHS, validation_data=(validation_inputs, validation_targets), verbose =2)"
   ]
  },
  {
   "cell_type": "markdown",
   "id": "aa0e3d9d",
   "metadata": {},
   "source": [
    "## Test the model"
   ]
  },
  {
   "cell_type": "code",
   "execution_count": 11,
   "id": "890b7550",
   "metadata": {},
   "outputs": [
    {
     "name": "stdout",
     "output_type": "stream",
     "text": [
      "1/1 [==============================] - 0s 995us/step - loss: 0.1696 - accuracy: 0.9489\n"
     ]
    }
   ],
   "source": [
    "test_loss, test_accuracy = model.evaluate(test_data)"
   ]
  },
  {
   "cell_type": "code",
   "execution_count": 12,
   "id": "dfa3a98d",
   "metadata": {},
   "outputs": [
    {
     "name": "stdout",
     "output_type": "stream",
     "text": [
      "Test loss: 0.17. Test accuracy: 94.89%\n"
     ]
    }
   ],
   "source": [
    "# We can apply some nice formatting if we want to\n",
    "print('Test loss: {0:.2f}. Test accuracy: {1:.2f}%'.format(test_loss, test_accuracy*100.))"
   ]
  },
  {
   "cell_type": "code",
   "execution_count": null,
   "id": "975d91ae",
   "metadata": {},
   "outputs": [],
   "source": []
  },
  {
   "cell_type": "code",
   "execution_count": null,
   "id": "f986409f",
   "metadata": {},
   "outputs": [],
   "source": []
  }
 ],
 "metadata": {
  "kernelspec": {
   "display_name": "Python [conda env:root] *",
   "language": "python",
   "name": "conda-root-py"
  },
  "language_info": {
   "codemirror_mode": {
    "name": "ipython",
    "version": 3
   },
   "file_extension": ".py",
   "mimetype": "text/x-python",
   "name": "python",
   "nbconvert_exporter": "python",
   "pygments_lexer": "ipython3",
   "version": "3.8.8"
  }
 },
 "nbformat": 4,
 "nbformat_minor": 5
}
